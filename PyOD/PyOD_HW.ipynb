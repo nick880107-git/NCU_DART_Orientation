{
  "nbformat": 4,
  "nbformat_minor": 0,
  "metadata": {
    "colab": {
      "name": "PyOD_HW.ipynb",
      "provenance": []
    },
    "kernelspec": {
      "name": "python3",
      "display_name": "Python 3"
    },
    "language_info": {
      "name": "python"
    }
  },
  "cells": [
    {
      "cell_type": "markdown",
      "metadata": {
        "id": "9Y_Cx9HT0FtF"
      },
      "source": [
        "# Install PyOD"
      ]
    },
    {
      "cell_type": "code",
      "metadata": {
        "colab": {
          "base_uri": "https://localhost:8080/"
        },
        "id": "UtpoFD-Z0I7E",
        "outputId": "01266183-cf68-4251-b6eb-1333167d572e"
      },
      "source": [
        "!git clone https://github.com/yzhao062/pyod.git"
      ],
      "execution_count": null,
      "outputs": [
        {
          "output_type": "stream",
          "text": [
            "Cloning into 'pyod'...\n",
            "remote: Enumerating objects: 7432, done.\u001b[K\n",
            "remote: Counting objects: 100% (449/449), done.\u001b[K\n",
            "remote: Compressing objects: 100% (326/326), done.\u001b[K\n",
            "remote: Total 7432 (delta 311), reused 225 (delta 123), pack-reused 6983\u001b[K\n",
            "Receiving objects: 100% (7432/7432), 35.56 MiB | 33.81 MiB/s, done.\n",
            "Resolving deltas: 100% (5222/5222), done.\n"
          ],
          "name": "stdout"
        }
      ]
    },
    {
      "cell_type": "code",
      "metadata": {
        "colab": {
          "base_uri": "https://localhost:8080/"
        },
        "id": "xhTD3S_M0cdF",
        "outputId": "2a7e492b-5c96-4b60-de57-53e05fc23bba"
      },
      "source": [
        "%cd pyod"
      ],
      "execution_count": null,
      "outputs": [
        {
          "output_type": "stream",
          "text": [
            "/content/pyod\n"
          ],
          "name": "stdout"
        }
      ]
    },
    {
      "cell_type": "code",
      "metadata": {
        "colab": {
          "base_uri": "https://localhost:8080/"
        },
        "id": "ggALIwUN00R1",
        "outputId": "4779fb1b-7597-415f-c0b5-122be61c8ada"
      },
      "source": [
        "!pip install pyod"
      ],
      "execution_count": null,
      "outputs": [
        {
          "output_type": "stream",
          "text": [
            "Collecting pyod\n",
            "  Downloading pyod-0.9.2.tar.gz (108 kB)\n",
            "\u001b[?25l\r\u001b[K     |███                             | 10 kB 21.0 MB/s eta 0:00:01\r\u001b[K     |██████                          | 20 kB 26.1 MB/s eta 0:00:01\r\u001b[K     |█████████                       | 30 kB 12.1 MB/s eta 0:00:01\r\u001b[K     |████████████                    | 40 kB 9.1 MB/s eta 0:00:01\r\u001b[K     |███████████████                 | 51 kB 5.1 MB/s eta 0:00:01\r\u001b[K     |██████████████████              | 61 kB 5.3 MB/s eta 0:00:01\r\u001b[K     |█████████████████████           | 71 kB 5.3 MB/s eta 0:00:01\r\u001b[K     |████████████████████████        | 81 kB 6.0 MB/s eta 0:00:01\r\u001b[K     |███████████████████████████     | 92 kB 4.6 MB/s eta 0:00:01\r\u001b[K     |██████████████████████████████  | 102 kB 5.0 MB/s eta 0:00:01\r\u001b[K     |████████████████████████████████| 108 kB 5.0 MB/s \n",
            "\u001b[?25hRequirement already satisfied: joblib in /usr/local/lib/python3.7/dist-packages (from pyod) (1.0.1)\n",
            "Requirement already satisfied: matplotlib in /usr/local/lib/python3.7/dist-packages (from pyod) (3.2.2)\n",
            "Requirement already satisfied: numpy>=1.13 in /usr/local/lib/python3.7/dist-packages (from pyod) (1.19.5)\n",
            "Requirement already satisfied: numba>=0.35 in /usr/local/lib/python3.7/dist-packages (from pyod) (0.51.2)\n",
            "Requirement already satisfied: scipy>=1.3.1 in /usr/local/lib/python3.7/dist-packages (from pyod) (1.4.1)\n",
            "Requirement already satisfied: scikit_learn>=0.20.0 in /usr/local/lib/python3.7/dist-packages (from pyod) (0.22.2.post1)\n",
            "Requirement already satisfied: six in /usr/local/lib/python3.7/dist-packages (from pyod) (1.15.0)\n",
            "Requirement already satisfied: statsmodels in /usr/local/lib/python3.7/dist-packages (from pyod) (0.10.2)\n",
            "Requirement already satisfied: setuptools in /usr/local/lib/python3.7/dist-packages (from numba>=0.35->pyod) (57.4.0)\n",
            "Requirement already satisfied: llvmlite<0.35,>=0.34.0.dev0 in /usr/local/lib/python3.7/dist-packages (from numba>=0.35->pyod) (0.34.0)\n",
            "Requirement already satisfied: cycler>=0.10 in /usr/local/lib/python3.7/dist-packages (from matplotlib->pyod) (0.10.0)\n",
            "Requirement already satisfied: pyparsing!=2.0.4,!=2.1.2,!=2.1.6,>=2.0.1 in /usr/local/lib/python3.7/dist-packages (from matplotlib->pyod) (2.4.7)\n",
            "Requirement already satisfied: kiwisolver>=1.0.1 in /usr/local/lib/python3.7/dist-packages (from matplotlib->pyod) (1.3.1)\n",
            "Requirement already satisfied: python-dateutil>=2.1 in /usr/local/lib/python3.7/dist-packages (from matplotlib->pyod) (2.8.2)\n",
            "Requirement already satisfied: pandas>=0.19 in /usr/local/lib/python3.7/dist-packages (from statsmodels->pyod) (1.1.5)\n",
            "Requirement already satisfied: patsy>=0.4.0 in /usr/local/lib/python3.7/dist-packages (from statsmodels->pyod) (0.5.1)\n",
            "Requirement already satisfied: pytz>=2017.2 in /usr/local/lib/python3.7/dist-packages (from pandas>=0.19->statsmodels->pyod) (2018.9)\n",
            "Building wheels for collected packages: pyod\n",
            "  Building wheel for pyod (setup.py) ... \u001b[?25l\u001b[?25hdone\n",
            "  Created wheel for pyod: filename=pyod-0.9.2-py3-none-any.whl size=127179 sha256=ef5be495bc5cf71ee69df892d5d46d82a82793dd3d820c8df33e8badb0acbfb8\n",
            "  Stored in directory: /root/.cache/pip/wheels/20/c3/80/4fc108b509b7221a0043444eee23fe54c8c5f5a29ba1ccaa14\n",
            "Successfully built pyod\n",
            "Installing collected packages: pyod\n",
            "Successfully installed pyod-0.9.2\n"
          ],
          "name": "stdout"
        }
      ]
    },
    {
      "cell_type": "markdown",
      "metadata": {
        "id": "9MtVH6FNzDJM"
      },
      "source": [
        "# Import Packages"
      ]
    },
    {
      "cell_type": "code",
      "metadata": {
        "id": "fQE7dSsDyw33"
      },
      "source": [
        "from pyod.models.knn import KNN # 使用的檢測器模型\n",
        "from pyod.utils.data import generate_data # 生成資料函式\n",
        "from pyod.utils.data import evaluate_print  # 評估預測結果函式\n",
        "from pyod.utils.example import visualize  # 視覺化結果"
      ],
      "execution_count": null,
      "outputs": []
    },
    {
      "cell_type": "markdown",
      "metadata": {
        "id": "YC5EQUQYzoOM"
      },
      "source": [
        "# Generate Data"
      ]
    },
    {
      "cell_type": "code",
      "metadata": {
        "id": "mplEPljOy4-2"
      },
      "source": [
        "import pandas as pd\n",
        "\n",
        "dataframe = pd.read_csv('/content/ionosphere.csv', header=None)\n",
        "data = dataframe.values\n"
      ],
      "execution_count": null,
      "outputs": []
    },
    {
      "cell_type": "code",
      "metadata": {
        "id": "jqqoPtxch0ti"
      },
      "source": [
        "from sklearn.model_selection import train_test_split\n",
        "X, y = data[:,:-1], data[:,-1]\n",
        "\n"
      ],
      "execution_count": null,
      "outputs": []
    },
    {
      "cell_type": "code",
      "metadata": {
        "id": "GcV3Z5-vlC8A"
      },
      "source": [
        "for i in range(len(y)):\n",
        "  if y[i] == 'g':\n",
        "    y[i] = 0\n",
        "  elif y[i] == 'b':\n",
        "    y[i] = 1\n",
        "\n",
        "y = y.astype(int)"
      ],
      "execution_count": null,
      "outputs": []
    },
    {
      "cell_type": "code",
      "metadata": {
        "id": "9Yh41U06lR1-"
      },
      "source": [
        "X_train, X_test, y_train, y_test = train_test_split(X, y, test_size=0.33, random_state=42)"
      ],
      "execution_count": null,
      "outputs": []
    },
    {
      "cell_type": "markdown",
      "metadata": {
        "id": "e9OkcRTQz24d"
      },
      "source": [
        "# Initialize Classifier & Prediciton"
      ]
    },
    {
      "cell_type": "code",
      "metadata": {
        "id": "OlhmBysjz2Y5"
      },
      "source": [
        "clf_name = 'KNN'  # 可用於打印評估方法時，作為變數表示檢測器的類型\n",
        "clf = KNN()\n",
        "clf.fit(X_train)\n",
        "\n",
        "y_train_pred = clf.labels_  \n",
        "y_train_scores = clf.decision_scores_  \n",
        "\n",
        "y_test_pred = clf.predict(X_test)  \n",
        "y_test_scores = clf.decision_function(X_test)  "
      ],
      "execution_count": null,
      "outputs": []
    },
    {
      "cell_type": "markdown",
      "metadata": {
        "id": "ai0d4xlINgvk"
      },
      "source": [
        "# Evaluate"
      ]
    },
    {
      "cell_type": "code",
      "metadata": {
        "colab": {
          "base_uri": "https://localhost:8080/"
        },
        "id": "Hf6TnW98LEmr",
        "outputId": "84a71251-dbe7-4e34-ce48-16bfe186103d"
      },
      "source": [
        "# evaluate_print(clf_name, y, y_pred)\n",
        "# 打印預測的roc_auc_score 及 precision score\n",
        "\n",
        "print(\"On Training Data:\")\n",
        "evaluate_print(clf_name, y_train, y_train_scores)\n",
        "print(\"\\nOn Test Data:\")\n",
        "evaluate_print(clf_name, y_test, y_test_scores)"
      ],
      "execution_count": null,
      "outputs": [
        {
          "output_type": "stream",
          "text": [
            "On Training Data:\n",
            "KNN ROC:0.9297, precision @ rank n:0.8642\n",
            "\n",
            "On Test Data:\n",
            "KNN ROC:0.929, precision @ rank n:0.8667\n"
          ],
          "name": "stdout"
        }
      ]
    }
  ]
}