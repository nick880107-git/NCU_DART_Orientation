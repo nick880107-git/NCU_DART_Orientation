{
  "nbformat": 4,
  "nbformat_minor": 0,
  "metadata": {
    "colab": {
      "name": "Week4_Pytorch.ipynb",
      "provenance": []
    },
    "kernelspec": {
      "name": "python3",
      "display_name": "Python 3"
    },
    "language_info": {
      "name": "python"
    },
    "accelerator": "GPU"
  },
  "cells": [
    {
      "cell_type": "code",
      "metadata": {
        "id": "D0ccObpZH7PE"
      },
      "source": [
        "from torch import nn, cuda, device, FloatTensor, as_tensor, int64, optim, argmax, no_grad\n",
        "from torch.cuda import is_available\n",
        "from sklearn import preprocessing\n",
        "from torch.utils.data import Dataset, DataLoader\n",
        "import numpy as np\n",
        "import pandas as pd\n",
        "from tqdm import tqdm\n",
        "import csv\n",
        "import torch\n",
        "import seaborn as sns\n",
        "import matplotlib.pyplot as plt\n"
      ],
      "execution_count": 1,
      "outputs": []
    },
    {
      "cell_type": "markdown",
      "metadata": {
        "id": "c68m3ycOJRo0"
      },
      "source": [
        "# Load Data"
      ]
    },
    {
      "cell_type": "code",
      "metadata": {
        "id": "ehp-KQpUJRI8"
      },
      "source": [
        "train_df = pd.read_csv(\"train.csv\")\n",
        "test_df = pd.read_csv(\"test.csv\")"
      ],
      "execution_count": 2,
      "outputs": []
    },
    {
      "cell_type": "code",
      "metadata": {
        "colab": {
          "base_uri": "https://localhost:8080/",
          "height": 296
        },
        "id": "wgzPAJh8J20M",
        "outputId": "0f517166-dc96-4070-83ec-7e29527609c8"
      },
      "source": [
        "sns.countplot(x='Race', data=train_df) "
      ],
      "execution_count": 3,
      "outputs": [
        {
          "output_type": "execute_result",
          "data": {
            "text/plain": [
              "<matplotlib.axes._subplots.AxesSubplot at 0x7fde166a4250>"
            ]
          },
          "metadata": {
            "tags": []
          },
          "execution_count": 3
        },
        {
          "output_type": "display_data",
          "data": {
            "image/png": "[encoded data removed]",
            "text/plain": [
              "<Figure size 432x288 with 1 Axes>"
            ]
          },
          "metadata": {
            "tags": [],
            "needs_background": "light"
          }
        }
      ]
    },
    {
      "cell_type": "code",
      "metadata": {
        "colab": {
          "base_uri": "https://localhost:8080/",
          "height": 419
        },
        "id": "4n1nFOLiKAQL",
        "outputId": "c798c6d0-5717-4b71-d541-fc9e40aa5b9f"
      },
      "source": [
        "train_df"
      ],
      "execution_count": 4,
      "outputs": [
        {
          "output_type": "execute_result",
          "data": {
            "text/html": [
              "<div>\n",
              "<style scoped>\n",
              "    .dataframe tbody tr th:only-of-type {\n",
              "        vertical-align: middle;\n",
              "    }\n",
              "\n",
              "    .dataframe tbody tr th {\n",
              "        vertical-align: top;\n",
              "    }\n",
              "\n",
              "    .dataframe thead th {\n",
              "        text-align: right;\n",
              "    }\n",
              "</style>\n",
              "<table border=\"1\" class=\"dataframe\">\n",
              "  <thead>\n",
              "    <tr style=\"text-align: right;\">\n",
              "      <th></th>\n",
              "      <th>id</th>\n",
              "      <th>Hit Point</th>\n",
              "      <th>Attack Point</th>\n",
              "      <th>Recovery</th>\n",
              "      <th>Total</th>\n",
              "      <th>Attribute</th>\n",
              "      <th>Race</th>\n",
              "    </tr>\n",
              "  </thead>\n",
              "  <tbody>\n",
              "    <tr>\n",
              "      <th>0</th>\n",
              "      <td>977</td>\n",
              "      <td>1687</td>\n",
              "      <td>1656</td>\n",
              "      <td>489</td>\n",
              "      <td>3832</td>\n",
              "      <td>Water</td>\n",
              "      <td>Demon</td>\n",
              "    </tr>\n",
              "    <tr>\n",
              "      <th>1</th>\n",
              "      <td>72</td>\n",
              "      <td>185</td>\n",
              "      <td>87</td>\n",
              "      <td>159</td>\n",
              "      <td>431</td>\n",
              "      <td>Light</td>\n",
              "      <td>Elf</td>\n",
              "    </tr>\n",
              "    <tr>\n",
              "      <th>2</th>\n",
              "      <td>69</td>\n",
              "      <td>584</td>\n",
              "      <td>313</td>\n",
              "      <td>430</td>\n",
              "      <td>1327</td>\n",
              "      <td>Fire</td>\n",
              "      <td>Elf</td>\n",
              "    </tr>\n",
              "    <tr>\n",
              "      <th>3</th>\n",
              "      <td>493</td>\n",
              "      <td>1880</td>\n",
              "      <td>859</td>\n",
              "      <td>373</td>\n",
              "      <td>3112</td>\n",
              "      <td>Earth</td>\n",
              "      <td>Elf</td>\n",
              "    </tr>\n",
              "    <tr>\n",
              "      <th>4</th>\n",
              "      <td>443</td>\n",
              "      <td>905</td>\n",
              "      <td>364</td>\n",
              "      <td>49</td>\n",
              "      <td>1318</td>\n",
              "      <td>Water</td>\n",
              "      <td>Beast</td>\n",
              "    </tr>\n",
              "    <tr>\n",
              "      <th>...</th>\n",
              "      <td>...</td>\n",
              "      <td>...</td>\n",
              "      <td>...</td>\n",
              "      <td>...</td>\n",
              "      <td>...</td>\n",
              "      <td>...</td>\n",
              "      <td>...</td>\n",
              "    </tr>\n",
              "    <tr>\n",
              "      <th>995</th>\n",
              "      <td>1050</td>\n",
              "      <td>1473</td>\n",
              "      <td>1898</td>\n",
              "      <td>356</td>\n",
              "      <td>3727</td>\n",
              "      <td>Fire</td>\n",
              "      <td>Demon</td>\n",
              "    </tr>\n",
              "    <tr>\n",
              "      <th>996</th>\n",
              "      <td>999</td>\n",
              "      <td>2600</td>\n",
              "      <td>100</td>\n",
              "      <td>100</td>\n",
              "      <td>2800</td>\n",
              "      <td>Earth</td>\n",
              "      <td>Material</td>\n",
              "    </tr>\n",
              "    <tr>\n",
              "      <th>997</th>\n",
              "      <td>27</td>\n",
              "      <td>1133</td>\n",
              "      <td>475</td>\n",
              "      <td>128</td>\n",
              "      <td>1736</td>\n",
              "      <td>Fire</td>\n",
              "      <td>Beast</td>\n",
              "    </tr>\n",
              "    <tr>\n",
              "      <th>998</th>\n",
              "      <td>789</td>\n",
              "      <td>3063</td>\n",
              "      <td>1241</td>\n",
              "      <td>355</td>\n",
              "      <td>4659</td>\n",
              "      <td>Earth</td>\n",
              "      <td>God</td>\n",
              "    </tr>\n",
              "    <tr>\n",
              "      <th>999</th>\n",
              "      <td>735</td>\n",
              "      <td>1518</td>\n",
              "      <td>1858</td>\n",
              "      <td>327</td>\n",
              "      <td>3703</td>\n",
              "      <td>Dark</td>\n",
              "      <td>Demon</td>\n",
              "    </tr>\n",
              "  </tbody>\n",
              "</table>\n",
              "<p>1000 rows × 7 columns</p>\n",
              "</div>"
            ],
            "text/plain": [
              "       id  Hit Point  Attack Point  Recovery  Total Attribute      Race\n",
              "0     977       1687          1656       489   3832     Water     Demon\n",
              "1      72        185            87       159    431     Light       Elf\n",
              "2      69        584           313       430   1327      Fire       Elf\n",
              "3     493       1880           859       373   3112     Earth       Elf\n",
              "4     443        905           364        49   1318     Water     Beast\n",
              "..    ...        ...           ...       ...    ...       ...       ...\n",
              "995  1050       1473          1898       356   3727      Fire     Demon\n",
              "996   999       2600           100       100   2800     Earth  Material\n",
              "997    27       1133           475       128   1736      Fire     Beast\n",
              "998   789       3063          1241       355   4659     Earth       God\n",
              "999   735       1518          1858       327   3703      Dark     Demon\n",
              "\n",
              "[1000 rows x 7 columns]"
            ]
          },
          "metadata": {
            "tags": []
          },
          "execution_count": 4
        }
      ]
    },
    {
      "cell_type": "markdown",
      "metadata": {
        "id": "Hntg122DMMn1"
      },
      "source": [
        "# Preprocess"
      ]
    },
    {
      "cell_type": "code",
      "metadata": {
        "id": "z5Qldk5QL8OM"
      },
      "source": [
        "def race_to_idx(race):\n",
        "  race_map = {\n",
        "      'God': 0,\n",
        "      'Human':1,\n",
        "      'Demon':2,\n",
        "      'Beast':3,\n",
        "      'Dragon':4,\n",
        "      'Elf':5,\n",
        "      'Machina':6,\n",
        "      'Material':7\n",
        "  }\n",
        "  return race_map[race]\n",
        "\n",
        "def idx_to_race(idx):\n",
        "  race_map = ['God', 'Human', 'Demon', 'Beast', 'Dragon', 'Elf', 'Machina', 'Material']\n",
        "  return race_map[idx]\n",
        "\n",
        "class ToS(Dataset):\n",
        "  def __init__(self, data, mode):\n",
        "    \n",
        "    X = data.loc[:,'Hit Point': 'Attribute']\n",
        "    X = X.join(pd.get_dummies(X['Attribute']))\n",
        "    X = X.drop(['Attribute'], axis = 1)\n",
        "    self.X = torch.from_numpy(X.to_numpy()).to(torch.float)\n",
        "    \n",
        "    if mode == 'train':\n",
        "      \n",
        "      Y_race = data['Race'].to_numpy()\n",
        "      Y = []\n",
        "      for i in range(len(Y_race)):\n",
        "        Y.append(race_to_idx(Y_race[i]))\n",
        "      self.Y = torch.Tensor(Y).to(torch.float)\n",
        "\n",
        "    elif mode == 'test':\n",
        "      Y = np.full(len(data), -1)\n",
        "      self.Y = torch.from_numpy(Y).to(torch.float)\n",
        "\n",
        "  def __len__(self):\n",
        "    return len(self.X)\n",
        "\n",
        "  def __getitem__(self, idx):\n",
        "    return self.X[idx], self.Y[idx]\n"
      ],
      "execution_count": 5,
      "outputs": []
    },
    {
      "cell_type": "code",
      "metadata": {
        "id": "SAHWIopbQerU"
      },
      "source": [
        "from sklearn.utils import shuffle\n",
        "train_df = shuffle(train_df)\n",
        "train_data = train_df.loc[:int(len(train_df)*0.8)]\n",
        "valid_data = train_df.loc[int(len(train_df)*0.8):]\n",
        "train_loader = DataLoader(ToS(train_data,'train'), batch_size=64, shuffle=True)\n",
        "valid_loader = DataLoader(ToS(valid_data,'train'), batch_size=64, shuffle=True)"
      ],
      "execution_count": 6,
      "outputs": []
    },
    {
      "cell_type": "markdown",
      "metadata": {
        "id": "y6Gf_Nl8WJmR"
      },
      "source": [
        "# Define Model & Hyperparemeter"
      ]
    },
    {
      "cell_type": "code",
      "metadata": {
        "id": "DcOaksyLRq1L"
      },
      "source": [
        "class DNN(nn.Module):\n",
        "  def __init__(self):\n",
        "    super(DNN,self).__init__()\n",
        "    self.linear1 = nn.Linear(9,180)\n",
        "    self.linear2 = nn.Linear(180, 8)\n",
        "    self.dropout = nn.Dropout(0.2)\n",
        "    self.relu = nn.ReLU()\n",
        "\n",
        "        \n",
        "  def forward(self,x):\n",
        "    x = self.linear1(x)\n",
        "    x = self.dropout(x)\n",
        "    x = self.relu(x) \n",
        "    x = self.linear2(x)\n",
        "    return x"
      ],
      "execution_count": 7,
      "outputs": []
    },
    {
      "cell_type": "code",
      "metadata": {
        "colab": {
          "base_uri": "https://localhost:8080/"
        },
        "id": "EDwFHRmdeLcZ",
        "outputId": "ed4cdb2c-3afc-4a15-ff5d-83a09bdf41da"
      },
      "source": [
        "device = device(\"cuda\" if is_available() else \"cpu\")\n",
        "print(device)"
      ],
      "execution_count": 8,
      "outputs": [
        {
          "output_type": "stream",
          "text": [
            "cuda\n"
          ],
          "name": "stdout"
        }
      ]
    },
    {
      "cell_type": "code",
      "metadata": {
        "id": "iC4I0Veydx2S"
      },
      "source": [
        "learning_rate = 0.005\n",
        "num_epochs = 100\n",
        "weight_decay = 0.005\n",
        "\n",
        "model = DNN().to(device)\n",
        "criterion = nn.CrossEntropyLoss()\n",
        "optimizer = optim.Adam(model.parameters(), lr = learning_rate, weight_decay = weight_decay)"
      ],
      "execution_count": 9,
      "outputs": []
    },
    {
      "cell_type": "code",
      "metadata": {
        "colab": {
          "base_uri": "https://localhost:8080/"
        },
        "id": "o4AJDeYSxJfE",
        "outputId": "65a77358-f9c4-4971-ae4c-664d3f96f373"
      },
      "source": [
        "print(model)"
      ],
      "execution_count": 10,
      "outputs": [
        {
          "output_type": "stream",
          "text": [
            "DNN(\n",
            "  (linear1): Linear(in_features=9, out_features=180, bias=True)\n",
            "  (linear2): Linear(in_features=180, out_features=8, bias=True)\n",
            "  (dropout): Dropout(p=0.2, inplace=False)\n",
            "  (relu): ReLU()\n",
            ")\n"
          ],
          "name": "stdout"
        }
      ]
    },
    {
      "cell_type": "markdown",
      "metadata": {
        "id": "yizI2svhelmJ"
      },
      "source": [
        "# Training & Validation"
      ]
    },
    {
      "cell_type": "code",
      "metadata": {
        "id": "T1HHbqKgBpqf"
      },
      "source": [
        "# Accurarcy\n",
        "def accurarcy(predict, answer):\n",
        "  correct = 0\n",
        "  for i in range(len(predict)):\n",
        "    if int(predict[i]) == int(answer[i]):\n",
        "      correct += 1\n",
        "  return correct / len(predict)"
      ],
      "execution_count": 11,
      "outputs": []
    },
    {
      "cell_type": "code",
      "metadata": {
        "colab": {
          "base_uri": "https://localhost:8080/"
        },
        "id": "mTq9B09JejpS",
        "outputId": "c690907e-9959-407e-fbf3-17770dae8d6a"
      },
      "source": [
        "best_acc = 0\n",
        "for epoch in tqdm(range(num_epochs)):\n",
        "  epoch_loss = 0\n",
        "  model.train()\n",
        "  predict = []\n",
        "  answer = []\n",
        "  for step, (X, target) in enumerate(train_loader):\n",
        "    optimizer.zero_grad()\n",
        "    y = model(X.to(device))\n",
        "    predict += torch.argmax(y, 1).tolist()\n",
        "    answer += target.tolist()\n",
        "    loss = criterion(y, target.to(device, dtype=int64))\n",
        "    loss.backward()\n",
        "    epoch_loss += loss.item()\n",
        "    optimizer.step()\n",
        "  acc = accurarcy(predict,answer)\n",
        "  if acc > best_acc:\n",
        "    best_acc = acc\n",
        "  print(\"epoch: %3d, training loss: %.3f, accurarcy: %.3f\"%(epoch, epoch_loss, acc))\n",
        "\n",
        "\n",
        "print(\"\\nDone, Best acc is {}\".format(best_acc))"
      ],
      "execution_count": 17,
      "outputs": [
        {
          "output_type": "stream",
          "text": [
            " 28%|██▊       | 28/100 [00:00<00:00, 137.82it/s]"
          ],
          "name": "stderr"
        },
        {
          "output_type": "stream",
          "text": [
            "epoch:   0, training loss: 11.158, accurarcy: 0.632\n",
            "epoch:   1, training loss: 7.929, accurarcy: 0.657\n",
            "epoch:   2, training loss: 5.825, accurarcy: 0.647\n",
            "epoch:   3, training loss: 10.040, accurarcy: 0.592\n",
            "epoch:   4, training loss: 6.387, accurarcy: 0.642\n",
            "epoch:   5, training loss: 8.754, accurarcy: 0.622\n",
            "epoch:   6, training loss: 5.500, accurarcy: 0.657\n",
            "epoch:   7, training loss: 8.564, accurarcy: 0.622\n",
            "epoch:   8, training loss: 5.591, accurarcy: 0.612\n",
            "epoch:   9, training loss: 3.926, accurarcy: 0.647\n",
            "epoch:  10, training loss: 5.535, accurarcy: 0.662\n",
            "epoch:  11, training loss: 6.111, accurarcy: 0.642\n",
            "epoch:  12, training loss: 7.008, accurarcy: 0.622\n",
            "epoch:  13, training loss: 4.251, accurarcy: 0.642\n",
            "epoch:  14, training loss: 3.957, accurarcy: 0.687\n",
            "epoch:  15, training loss: 6.204, accurarcy: 0.607\n",
            "epoch:  16, training loss: 4.052, accurarcy: 0.677\n",
            "epoch:  17, training loss: 4.995, accurarcy: 0.682\n",
            "epoch:  18, training loss: 4.694, accurarcy: 0.652\n",
            "epoch:  19, training loss: 4.718, accurarcy: 0.677\n",
            "epoch:  20, training loss: 3.881, accurarcy: 0.637\n",
            "epoch:  21, training loss: 6.385, accurarcy: 0.652\n",
            "epoch:  22, training loss: 5.141, accurarcy: 0.682\n",
            "epoch:  23, training loss: 3.650, accurarcy: 0.657\n",
            "epoch:  24, training loss: 7.888, accurarcy: 0.617\n",
            "epoch:  25, training loss: 6.152, accurarcy: 0.592\n",
            "epoch:  26, training loss: 5.959, accurarcy: 0.642\n",
            "epoch:  27, training loss: 4.768, accurarcy: 0.652\n"
          ],
          "name": "stdout"
        },
        {
          "output_type": "stream",
          "text": [
            " 56%|█████▌    | 56/100 [00:00<00:00, 135.68it/s]"
          ],
          "name": "stderr"
        },
        {
          "output_type": "stream",
          "text": [
            "epoch:  28, training loss: 5.608, accurarcy: 0.662\n",
            "epoch:  29, training loss: 3.187, accurarcy: 0.672\n",
            "epoch:  30, training loss: 2.797, accurarcy: 0.706\n",
            "epoch:  31, training loss: 3.479, accurarcy: 0.642\n",
            "epoch:  32, training loss: 2.954, accurarcy: 0.682\n",
            "epoch:  33, training loss: 4.100, accurarcy: 0.701\n",
            "epoch:  34, training loss: 6.284, accurarcy: 0.637\n",
            "epoch:  35, training loss: 3.774, accurarcy: 0.657\n",
            "epoch:  36, training loss: 4.230, accurarcy: 0.657\n",
            "epoch:  37, training loss: 2.934, accurarcy: 0.697\n",
            "epoch:  38, training loss: 4.847, accurarcy: 0.652\n",
            "epoch:  39, training loss: 3.410, accurarcy: 0.672\n",
            "epoch:  40, training loss: 3.081, accurarcy: 0.672\n",
            "epoch:  41, training loss: 3.113, accurarcy: 0.701\n",
            "epoch:  42, training loss: 3.084, accurarcy: 0.731\n",
            "epoch:  43, training loss: 2.448, accurarcy: 0.726\n",
            "epoch:  44, training loss: 4.612, accurarcy: 0.667\n",
            "epoch:  45, training loss: 4.036, accurarcy: 0.652\n",
            "epoch:  46, training loss: 3.060, accurarcy: 0.662\n",
            "epoch:  47, training loss: 3.683, accurarcy: 0.647\n",
            "epoch:  48, training loss: 3.244, accurarcy: 0.701\n",
            "epoch:  49, training loss: 3.512, accurarcy: 0.701\n",
            "epoch:  50, training loss: 2.429, accurarcy: 0.711\n",
            "epoch:  51, training loss: 3.275, accurarcy: 0.647\n",
            "epoch:  52, training loss: 3.361, accurarcy: 0.692\n",
            "epoch:  53, training loss: 4.867, accurarcy: 0.692\n",
            "epoch:  54, training loss: 4.255, accurarcy: 0.642\n",
            "epoch:  55, training loss: 3.368, accurarcy: 0.637\n"
          ],
          "name": "stdout"
        },
        {
          "output_type": "stream",
          "text": [
            " 85%|████████▌ | 85/100 [00:00<00:00, 136.14it/s]"
          ],
          "name": "stderr"
        },
        {
          "output_type": "stream",
          "text": [
            "epoch:  56, training loss: 3.121, accurarcy: 0.697\n",
            "epoch:  57, training loss: 2.833, accurarcy: 0.657\n",
            "epoch:  58, training loss: 4.384, accurarcy: 0.677\n",
            "epoch:  59, training loss: 3.779, accurarcy: 0.687\n",
            "epoch:  60, training loss: 3.539, accurarcy: 0.687\n",
            "epoch:  61, training loss: 2.670, accurarcy: 0.701\n",
            "epoch:  62, training loss: 2.856, accurarcy: 0.662\n",
            "epoch:  63, training loss: 2.437, accurarcy: 0.716\n",
            "epoch:  64, training loss: 2.413, accurarcy: 0.716\n",
            "epoch:  65, training loss: 2.465, accurarcy: 0.731\n",
            "epoch:  66, training loss: 2.382, accurarcy: 0.731\n",
            "epoch:  67, training loss: 2.519, accurarcy: 0.746\n",
            "epoch:  68, training loss: 2.950, accurarcy: 0.726\n",
            "epoch:  69, training loss: 2.188, accurarcy: 0.766\n",
            "epoch:  70, training loss: 2.368, accurarcy: 0.741\n",
            "epoch:  71, training loss: 2.282, accurarcy: 0.726\n",
            "epoch:  72, training loss: 2.788, accurarcy: 0.701\n",
            "epoch:  73, training loss: 2.578, accurarcy: 0.721\n",
            "epoch:  74, training loss: 3.042, accurarcy: 0.726\n",
            "epoch:  75, training loss: 2.384, accurarcy: 0.731\n",
            "epoch:  76, training loss: 2.165, accurarcy: 0.756\n",
            "epoch:  77, training loss: 2.404, accurarcy: 0.731\n",
            "epoch:  78, training loss: 2.382, accurarcy: 0.746\n",
            "epoch:  79, training loss: 2.027, accurarcy: 0.761\n",
            "epoch:  80, training loss: 2.589, accurarcy: 0.711\n",
            "epoch:  81, training loss: 2.138, accurarcy: 0.756\n",
            "epoch:  82, training loss: 2.895, accurarcy: 0.756\n",
            "epoch:  83, training loss: 2.388, accurarcy: 0.726\n",
            "epoch:  84, training loss: 2.050, accurarcy: 0.751\n"
          ],
          "name": "stdout"
        },
        {
          "output_type": "stream",
          "text": [
            "100%|██████████| 100/100 [00:00<00:00, 133.88it/s]"
          ],
          "name": "stderr"
        },
        {
          "output_type": "stream",
          "text": [
            "epoch:  85, training loss: 2.381, accurarcy: 0.736\n",
            "epoch:  86, training loss: 2.063, accurarcy: 0.751\n",
            "epoch:  87, training loss: 2.444, accurarcy: 0.706\n",
            "epoch:  88, training loss: 2.535, accurarcy: 0.716\n",
            "epoch:  89, training loss: 2.813, accurarcy: 0.746\n",
            "epoch:  90, training loss: 2.110, accurarcy: 0.756\n",
            "epoch:  91, training loss: 2.134, accurarcy: 0.726\n",
            "epoch:  92, training loss: 2.108, accurarcy: 0.766\n",
            "epoch:  93, training loss: 2.434, accurarcy: 0.731\n",
            "epoch:  94, training loss: 2.244, accurarcy: 0.746\n",
            "epoch:  95, training loss: 2.129, accurarcy: 0.781\n",
            "epoch:  96, training loss: 2.022, accurarcy: 0.781\n",
            "epoch:  97, training loss: 2.415, accurarcy: 0.726\n",
            "epoch:  98, training loss: 2.040, accurarcy: 0.721\n",
            "epoch:  99, training loss: 2.109, accurarcy: 0.706\n",
            "\n",
            "Done, Best acc is 0.7810945273631841\n"
          ],
          "name": "stdout"
        },
        {
          "output_type": "stream",
          "text": [
            "\n"
          ],
          "name": "stderr"
        }
      ]
    },
    {
      "cell_type": "code",
      "metadata": {
        "colab": {
          "base_uri": "https://localhost:8080/"
        },
        "id": "rRy2BKREA53W",
        "outputId": "0fd6a689-b3ac-4807-b378-148722a16c83"
      },
      "source": [
        "best_acc = 0\n",
        "for epoch in tqdm(range(num_epochs)):\n",
        "  valid_loss = 0\n",
        "  model.eval()\n",
        "  predict = []\n",
        "  answer = []\n",
        "  with no_grad():\n",
        "    for step, (X, target) in enumerate(valid_loader):    \n",
        "      y = model(X.to(device))\n",
        "      predict += torch.argmax(y, 1).tolist()\n",
        "      answer += target.tolist()\n",
        "      loss = criterion(y, target.view(-1).to(device, dtype=int64))\n",
        "      valid_loss += loss.item()  \n",
        "  acc = accurarcy(predict,answer)\n",
        "  if acc > best_acc:\n",
        "    best_acc = acc\n",
        "  print(\"epoch: %3d, validation loss: %.3f, accurarcy: %.3f\"%(epoch, valid_loss, acc))\n",
        "\n",
        "print(\"\\nDone, Best acc is {}\".format(best_acc))"
      ],
      "execution_count": 18,
      "outputs": [
        {
          "output_type": "stream",
          "text": [
            " 22%|██▏       | 22/100 [00:00<00:00, 104.54it/s]"
          ],
          "name": "stderr"
        },
        {
          "output_type": "stream",
          "text": [
            "epoch:   0, validation loss: 11.439, accurarcy: 0.818\n",
            "epoch:   1, validation loss: 10.816, accurarcy: 0.818\n",
            "epoch:   2, validation loss: 10.828, accurarcy: 0.818\n",
            "epoch:   3, validation loss: 11.743, accurarcy: 0.818\n",
            "epoch:   4, validation loss: 10.775, accurarcy: 0.818\n",
            "epoch:   5, validation loss: 11.570, accurarcy: 0.818\n",
            "epoch:   6, validation loss: 10.768, accurarcy: 0.818\n",
            "epoch:   7, validation loss: 11.842, accurarcy: 0.818\n",
            "epoch:   8, validation loss: 10.904, accurarcy: 0.818\n",
            "epoch:   9, validation loss: 10.812, accurarcy: 0.818\n",
            "epoch:  10, validation loss: 10.709, accurarcy: 0.818\n",
            "epoch:  11, validation loss: 10.953, accurarcy: 0.818\n",
            "epoch:  12, validation loss: 10.874, accurarcy: 0.818\n",
            "epoch:  13, validation loss: 11.091, accurarcy: 0.818\n",
            "epoch:  14, validation loss: 10.776, accurarcy: 0.818\n",
            "epoch:  15, validation loss: 10.749, accurarcy: 0.818\n",
            "epoch:  16, validation loss: 11.012, accurarcy: 0.818\n",
            "epoch:  17, validation loss: 10.861, accurarcy: 0.818\n",
            "epoch:  18, validation loss: 10.903, accurarcy: 0.818\n",
            "epoch:  19, validation loss: 10.866, accurarcy: 0.818\n",
            "epoch:  20, validation loss: 10.703, accurarcy: 0.818\n",
            "epoch:  21, validation loss: 10.722, accurarcy: 0.818\n"
          ],
          "name": "stdout"
        },
        {
          "output_type": "stream",
          "text": [
            " 43%|████▎     | 43/100 [00:00<00:00, 104.27it/s]"
          ],
          "name": "stderr"
        },
        {
          "output_type": "stream",
          "text": [
            "epoch:  22, validation loss: 10.923, accurarcy: 0.818\n",
            "epoch:  23, validation loss: 10.757, accurarcy: 0.818\n",
            "epoch:  24, validation loss: 10.820, accurarcy: 0.818\n",
            "epoch:  25, validation loss: 10.750, accurarcy: 0.818\n",
            "epoch:  26, validation loss: 10.817, accurarcy: 0.818\n",
            "epoch:  27, validation loss: 10.883, accurarcy: 0.818\n",
            "epoch:  28, validation loss: 10.753, accurarcy: 0.818\n",
            "epoch:  29, validation loss: 10.679, accurarcy: 0.818\n",
            "epoch:  30, validation loss: 10.697, accurarcy: 0.818\n",
            "epoch:  31, validation loss: 11.144, accurarcy: 0.818\n",
            "epoch:  32, validation loss: 11.147, accurarcy: 0.818\n",
            "epoch:  33, validation loss: 10.736, accurarcy: 0.818\n",
            "epoch:  34, validation loss: 10.740, accurarcy: 0.818\n",
            "epoch:  35, validation loss: 10.774, accurarcy: 0.818\n",
            "epoch:  36, validation loss: 11.069, accurarcy: 0.818\n",
            "epoch:  37, validation loss: 10.877, accurarcy: 0.818\n",
            "epoch:  38, validation loss: 10.904, accurarcy: 0.818\n",
            "epoch:  39, validation loss: 10.712, accurarcy: 0.818\n",
            "epoch:  40, validation loss: 10.922, accurarcy: 0.818\n",
            "epoch:  41, validation loss: 10.719, accurarcy: 0.818\n",
            "epoch:  42, validation loss: 11.578, accurarcy: 0.818\n",
            "epoch:  43, validation loss: 11.436, accurarcy: 0.818\n"
          ],
          "name": "stdout"
        },
        {
          "output_type": "stream",
          "text": [
            " 64%|██████▍   | 64/100 [00:00<00:00, 104.47it/s]"
          ],
          "name": "stderr"
        },
        {
          "output_type": "stream",
          "text": [
            "epoch:  44, validation loss: 10.820, accurarcy: 0.818\n",
            "epoch:  45, validation loss: 10.768, accurarcy: 0.818\n",
            "epoch:  46, validation loss: 11.163, accurarcy: 0.818\n",
            "epoch:  47, validation loss: 10.830, accurarcy: 0.818\n",
            "epoch:  48, validation loss: 11.120, accurarcy: 0.818\n",
            "epoch:  49, validation loss: 11.358, accurarcy: 0.818\n",
            "epoch:  50, validation loss: 10.778, accurarcy: 0.818\n",
            "epoch:  51, validation loss: 10.860, accurarcy: 0.818\n",
            "epoch:  52, validation loss: 10.730, accurarcy: 0.818\n",
            "epoch:  53, validation loss: 11.209, accurarcy: 0.818\n",
            "epoch:  54, validation loss: 10.808, accurarcy: 0.818\n",
            "epoch:  55, validation loss: 10.784, accurarcy: 0.818\n",
            "epoch:  56, validation loss: 10.796, accurarcy: 0.818\n",
            "epoch:  57, validation loss: 10.875, accurarcy: 0.818\n",
            "epoch:  58, validation loss: 10.924, accurarcy: 0.818\n",
            "epoch:  59, validation loss: 10.768, accurarcy: 0.818\n",
            "epoch:  60, validation loss: 11.134, accurarcy: 0.818\n",
            "epoch:  61, validation loss: 10.925, accurarcy: 0.818\n",
            "epoch:  62, validation loss: 10.707, accurarcy: 0.818\n",
            "epoch:  63, validation loss: 10.724, accurarcy: 0.818\n",
            "epoch:  64, validation loss: 10.860, accurarcy: 0.818\n",
            "epoch:  65, validation loss: 10.935, accurarcy: 0.818\n"
          ],
          "name": "stdout"
        },
        {
          "output_type": "stream",
          "text": [
            " 85%|████████▌ | 85/100 [00:00<00:00, 101.94it/s]"
          ],
          "name": "stderr"
        },
        {
          "output_type": "stream",
          "text": [
            "epoch:  66, validation loss: 10.905, accurarcy: 0.818\n",
            "epoch:  67, validation loss: 10.912, accurarcy: 0.818\n",
            "epoch:  68, validation loss: 11.050, accurarcy: 0.818\n",
            "epoch:  69, validation loss: 10.734, accurarcy: 0.818\n",
            "epoch:  70, validation loss: 10.707, accurarcy: 0.818\n",
            "epoch:  71, validation loss: 11.028, accurarcy: 0.818\n",
            "epoch:  72, validation loss: 11.602, accurarcy: 0.818\n",
            "epoch:  73, validation loss: 11.037, accurarcy: 0.818\n",
            "epoch:  74, validation loss: 10.697, accurarcy: 0.818\n",
            "epoch:  75, validation loss: 10.706, accurarcy: 0.818\n",
            "epoch:  76, validation loss: 10.905, accurarcy: 0.818\n",
            "epoch:  77, validation loss: 10.797, accurarcy: 0.818\n",
            "epoch:  78, validation loss: 11.645, accurarcy: 0.818\n",
            "epoch:  79, validation loss: 10.772, accurarcy: 0.818\n",
            "epoch:  80, validation loss: 10.787, accurarcy: 0.818\n",
            "epoch:  81, validation loss: 11.125, accurarcy: 0.818\n",
            "epoch:  82, validation loss: 10.954, accurarcy: 0.818\n",
            "epoch:  83, validation loss: 10.750, accurarcy: 0.818\n",
            "epoch:  84, validation loss: 10.772, accurarcy: 0.818\n",
            "epoch:  85, validation loss: 10.973, accurarcy: 0.818\n",
            "epoch:  86, validation loss: 10.748, accurarcy: 0.818\n"
          ],
          "name": "stdout"
        },
        {
          "output_type": "stream",
          "text": [
            "100%|██████████| 100/100 [00:00<00:00, 102.51it/s]"
          ],
          "name": "stderr"
        },
        {
          "output_type": "stream",
          "text": [
            "epoch:  87, validation loss: 10.769, accurarcy: 0.818\n",
            "epoch:  88, validation loss: 10.931, accurarcy: 0.818\n",
            "epoch:  89, validation loss: 10.693, accurarcy: 0.818\n",
            "epoch:  90, validation loss: 10.881, accurarcy: 0.818\n",
            "epoch:  91, validation loss: 11.007, accurarcy: 0.818\n",
            "epoch:  92, validation loss: 10.864, accurarcy: 0.818\n",
            "epoch:  93, validation loss: 10.877, accurarcy: 0.818\n",
            "epoch:  94, validation loss: 10.794, accurarcy: 0.818\n",
            "epoch:  95, validation loss: 11.714, accurarcy: 0.818\n",
            "epoch:  96, validation loss: 10.840, accurarcy: 0.818\n",
            "epoch:  97, validation loss: 10.866, accurarcy: 0.818\n",
            "epoch:  98, validation loss: 11.105, accurarcy: 0.818\n",
            "epoch:  99, validation loss: 11.036, accurarcy: 0.818\n",
            "\n",
            "Done, Best acc is 0.8175\n"
          ],
          "name": "stdout"
        },
        {
          "output_type": "stream",
          "text": [
            "\n"
          ],
          "name": "stderr"
        }
      ]
    },
    {
      "cell_type": "markdown",
      "metadata": {
        "id": "yMmTled6_YNP"
      },
      "source": [
        "# Testing"
      ]
    },
    {
      "cell_type": "code",
      "metadata": {
        "id": "E_H2ELUtxOBA"
      },
      "source": [
        "test_loader = DataLoader(ToS(test_df,'test'), batch_size=64, shuffle=False)"
      ],
      "execution_count": 19,
      "outputs": []
    },
    {
      "cell_type": "code",
      "metadata": {
        "id": "LsBswI278sdE"
      },
      "source": [
        "ans = []\n",
        "id = test_df['id'].values.tolist()\n",
        "content = {'id':[], 'Race':[]}\n",
        "model.eval()\n",
        "with no_grad():\n",
        "  for step, (X, target) in enumerate(test_loader):    \n",
        "    y = model(X.to(device))\n",
        "    ans += torch.argmax(y,1).tolist()\n",
        "\n",
        "for i in range(len(ans)):\n",
        "  content['id'].append(id[i])\n",
        "  content['Race'].append(idx_to_race(ans[i]))      "
      ],
      "execution_count": 20,
      "outputs": []
    },
    {
      "cell_type": "code",
      "metadata": {
        "id": "MI9hssmE_Wyu"
      },
      "source": [
        "df = pd.DataFrame(content)\n",
        "df.to_csv(\"submission.csv\", index=False)"
      ],
      "execution_count": 21,
      "outputs": []
    }
  ]
}