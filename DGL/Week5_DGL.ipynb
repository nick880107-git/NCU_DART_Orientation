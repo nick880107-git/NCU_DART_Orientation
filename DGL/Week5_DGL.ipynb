{
  "nbformat": 4,
  "nbformat_minor": 0,
  "metadata": {
    "colab": {
      "name": "Week5_DGL.ipynb",
      "provenance": []
    },
    "kernelspec": {
      "name": "python3",
      "display_name": "Python 3"
    },
    "language_info": {
      "name": "python"
    },
    "accelerator": "GPU"
  },
  "cells": [
    {
      "cell_type": "markdown",
      "metadata": {
        "id": "TB9h-4WyMkMy"
      },
      "source": [
        "# Import Package"
      ]
    },
    {
      "cell_type": "code",
      "metadata": {
        "colab": {
          "base_uri": "https://localhost:8080/"
        },
        "id": "jLQs4VA6MqGA",
        "outputId": "89dc0164-1e22-46c4-daab-d95e7a56a68f"
      },
      "source": [
        "!git clone --recurse-submodules https://github.com/dmlc/dgl.git"
      ],
      "execution_count": null,
      "outputs": [
        {
          "output_type": "stream",
          "text": [
            "Cloning into 'dgl'...\n",
            "remote: Enumerating objects: 25089, done.\u001b[K\n",
            "remote: Counting objects: 100% (639/639), done.\u001b[K\n",
            "remote: Compressing objects: 100% (445/445), done.\u001b[K\n",
            "remote: Total 25089 (delta 268), reused 458 (delta 179), pack-reused 24450\u001b[K\n",
            "Receiving objects: 100% (25089/25089), 15.27 MiB | 20.79 MiB/s, done.\n",
            "Resolving deltas: 100% (15791/15791), done.\n",
            "Submodule 'third_party/METIS' (https://github.com/KarypisLab/METIS.git) registered for path 'third_party/METIS'\n",
            "Submodule 'third_party/cub' (https://github.com/NVlabs/cub.git) registered for path 'third_party/cub'\n",
            "Submodule 'third_party/dlpack' (https://github.com/dmlc/dlpack.git) registered for path 'third_party/dlpack'\n",
            "Submodule 'third_party/dmlc-core' (https://github.com/dmlc/dmlc-core.git) registered for path 'third_party/dmlc-core'\n",
            "Submodule 'third_party/googletest' (https://github.com/google/googletest.git) registered for path 'third_party/googletest'\n",
            "Submodule 'third_party/libxsmm' (https://github.com/hfp/libxsmm.git) registered for path 'third_party/libxsmm'\n",
            "Submodule 'third_party/minigun' (https://github.com/jermainewang/minigun.git) registered for path 'third_party/minigun'\n",
            "Submodule 'third_party/nanoflann' (https://github.com/jlblancoc/nanoflann) registered for path 'third_party/nanoflann'\n",
            "Submodule 'third_party/nccl' (https://github.com/nvidia/nccl) registered for path 'third_party/nccl'\n",
            "Submodule 'third_party/phmap' (https://github.com/greg7mdp/parallel-hashmap.git) registered for path 'third_party/phmap'\n",
            "Submodule 'third_party/thrust' (https://github.com/NVIDIA/thrust.git) registered for path 'third_party/thrust'\n",
            "Submodule 'third_party/tvm' (https://github.com/apache/incubator-tvm) registered for path 'third_party/tvm'\n",
            "Submodule 'third_party/xbyak' (https://github.com/herumi/xbyak) registered for path 'third_party/xbyak'\n",
            "Cloning into '/content/dgl/third_party/METIS'...\n",
            "remote: Enumerating objects: 323, done.        \n",
            "remote: Counting objects: 100% (35/35), done.        \n",
            "remote: Compressing objects: 100% (25/25), done.        \n",
            "remote: Total 323 (delta 12), reused 22 (delta 9), pack-reused 288        \n",
            "Receiving objects: 100% (323/323), 4.72 MiB | 16.62 MiB/s, done.\n",
            "Resolving deltas: 100% (142/142), done.\n",
            "Cloning into '/content/dgl/third_party/cub'...\n",
            "remote: Enumerating objects: 34384, done.        \n",
            "remote: Counting objects: 100% (653/653), done.        \n",
            "remote: Compressing objects: 100% (302/302), done.        \n",
            "remote: Total 34384 (delta 409), reused 506 (delta 349), pack-reused 33731        \n",
            "Receiving objects: 100% (34384/34384), 17.51 MiB | 26.37 MiB/s, done.\n",
            "Resolving deltas: 100% (29778/29778), done.\n",
            "Cloning into '/content/dgl/third_party/dlpack'...\n",
            "remote: Enumerating objects: 254, done.        \n",
            "remote: Counting objects: 100% (92/92), done.        \n",
            "remote: Compressing objects: 100% (49/49), done.        \n",
            "remote: Total 254 (delta 29), reused 45 (delta 14), pack-reused 162        \n",
            "Receiving objects: 100% (254/254), 103.91 KiB | 2.12 MiB/s, done.\n",
            "Resolving deltas: 100% (85/85), done.\n",
            "Cloning into '/content/dgl/third_party/dmlc-core'...\n",
            "remote: Enumerating objects: 6193, done.        \n",
            "remote: Counting objects: 100% (57/57), done.        \n",
            "remote: Compressing objects: 100% (42/42), done.        \n",
            "remote: Total 6193 (delta 16), reused 27 (delta 5), pack-reused 6136        \n",
            "Receiving objects: 100% (6193/6193), 1.62 MiB | 12.73 MiB/s, done.\n",
            "Resolving deltas: 100% (3762/3762), done.\n",
            "Cloning into '/content/dgl/third_party/googletest'...\n",
            "remote: Enumerating objects: 23051, done.        \n",
            "remote: Counting objects: 100% (766/766), done.        \n",
            "remote: Compressing objects: 100% (345/345), done.        \n",
            "remote: Total 23051 (delta 471), reused 542 (delta 369), pack-reused 22285        \n",
            "Receiving objects: 100% (23051/23051), 9.41 MiB | 24.46 MiB/s, done.\n",
            "Resolving deltas: 100% (16952/16952), done.\n",
            "Cloning into '/content/dgl/third_party/libxsmm'...\n",
            "remote: Enumerating objects: 136943, done.        \n",
            "remote: Counting objects: 100% (2861/2861), done.        \n",
            "remote: Compressing objects: 100% (839/839), done.        \n",
            "remote: Total 136943 (delta 1842), reused 2719 (delta 1720), pack-reused 134082        \n",
            "Receiving objects: 100% (136943/136943), 287.71 MiB | 35.29 MiB/s, done.\n",
            "Resolving deltas: 100% (103577/103577), done.\n",
            "Cloning into '/content/dgl/third_party/minigun'...\n",
            "remote: Enumerating objects: 700, done.        \n",
            "remote: Counting objects: 100% (118/118), done.        \n",
            "remote: Compressing objects: 100% (79/79), done.        \n",
            "remote: Total 700 (delta 58), reused 66 (delta 36), pack-reused 582        \n",
            "Receiving objects: 100% (700/700), 166.45 KiB | 3.26 MiB/s, done.\n",
            "Resolving deltas: 100% (365/365), done.\n",
            "Cloning into '/content/dgl/third_party/nanoflann'...\n",
            "remote: Enumerating objects: 2344, done.        \n",
            "remote: Counting objects: 100% (87/87), done.        \n",
            "remote: Compressing objects: 100% (58/58), done.        \n",
            "remote: Total 2344 (delta 45), reused 57 (delta 26), pack-reused 2257        \n",
            "Receiving objects: 100% (2344/2344), 2.33 MiB | 13.03 MiB/s, done.\n",
            "Resolving deltas: 100% (1259/1259), done.\n",
            "Cloning into '/content/dgl/third_party/nccl'...\n",
            "remote: Enumerating objects: 1932, done.        \n",
            "remote: Counting objects: 100% (153/153), done.        \n",
            "remote: Compressing objects: 100% (92/92), done.        \n",
            "remote: Total 1932 (delta 65), reused 114 (delta 61), pack-reused 1779        \n",
            "Receiving objects: 100% (1932/1932), 2.29 MiB | 15.25 MiB/s, done.\n",
            "Resolving deltas: 100% (1213/1213), done.\n",
            "Cloning into '/content/dgl/third_party/phmap'...\n",
            "remote: Enumerating objects: 2397, done.        \n",
            "remote: Counting objects: 100% (270/270), done.        \n",
            "remote: Compressing objects: 100% (197/197), done.        \n",
            "remote: Total 2397 (delta 168), reused 155 (delta 73), pack-reused 2127        \n",
            "Receiving objects: 100% (2397/2397), 2.87 MiB | 14.87 MiB/s, done.\n",
            "Resolving deltas: 100% (1618/1618), done.\n",
            "Cloning into '/content/dgl/third_party/thrust'...\n",
            "remote: Enumerating objects: 45523, done.        \n",
            "remote: Counting objects: 100% (2637/2637), done.        \n",
            "remote: Compressing objects: 100% (1139/1139), done.        \n",
            "remote: Total 45523 (delta 1603), reused 2253 (delta 1436), pack-reused 42886        \n",
            "Receiving objects: 100% (45523/45523), 14.60 MiB | 23.39 MiB/s, done.\n",
            "Resolving deltas: 100% (36120/36120), done.\n",
            "Cloning into '/content/dgl/third_party/tvm'...\n",
            "remote: Enumerating objects: 112069, done.        \n",
            "remote: Counting objects: 100% (793/793), done.        \n",
            "remote: Compressing objects: 100% (550/550), done.        \n",
            "remote: Total 112069 (delta 398), reused 440 (delta 222), pack-reused 111276        \n",
            "Receiving objects: 100% (112069/112069), 45.16 MiB | 25.86 MiB/s, done.\n",
            "Resolving deltas: 100% (83024/83024), done.\n",
            "Cloning into '/content/dgl/third_party/xbyak'...\n",
            "remote: Enumerating objects: 5110, done.        \n",
            "remote: Counting objects: 100% (138/138), done.        \n",
            "remote: Compressing objects: 100% (93/93), done.        \n",
            "remote: Total 5110 (delta 73), reused 100 (delta 41), pack-reused 4972        \n",
            "Receiving objects: 100% (5110/5110), 2.15 MiB | 14.21 MiB/s, done.\n",
            "Resolving deltas: 100% (3455/3455), done.\n",
            "Submodule path 'third_party/METIS': checked out '10603482cc055626ff99d2ac3ab7e73d1119439d'\n",
            "Submodule 'GKlib' (https://github.com/KarypisLab/GKlib.git) registered for path 'third_party/METIS/GKlib'\n",
            "Cloning into '/content/dgl/third_party/METIS/GKlib'...\n",
            "remote: Enumerating objects: 133, done.        \n",
            "remote: Counting objects: 100% (9/9), done.        \n",
            "remote: Compressing objects: 100% (6/6), done.        \n",
            "remote: Total 133 (delta 3), reused 8 (delta 3), pack-reused 124        \n",
            "Receiving objects: 100% (133/133), 238.70 KiB | 2.41 MiB/s, done.\n",
            "Resolving deltas: 100% (42/42), done.\n",
            "Submodule path 'third_party/METIS/GKlib': checked out '62de20c7f97c719abdc96d7c3e266a1f7cb52bc5'\n",
            "Submodule path 'third_party/cub': checked out 'a3ee304a1f8e22f278df10600df2e4b333012592'\n",
            "Submodule path 'third_party/dlpack': checked out 'bee4d1dd8dc1ee4a1fd8fa6a96476c2f8b7492a3'\n",
            "Submodule path 'third_party/dmlc-core': checked out 'bfad207b448480783a1f428ae3d93d87032d8349'\n",
            "Submodule path 'third_party/googletest': checked out 'f71fb4f9a912ec945401cc49a287a759b6131026'\n",
            "Submodule path 'third_party/libxsmm': checked out 'fa687556130b6298430f1c0555a14cf79ab6101c'\n",
            "Submodule path 'third_party/minigun': checked out '9f5e381c91fafe9ea93dda768a255ae95731ad3b'\n",
            "Submodule 'third_party/dlpack' (https://github.com/dmlc/dlpack.git) registered for path 'third_party/minigun/third_party/dlpack'\n",
            "Submodule 'third_party/dmlc-core' (https://github.com/dmlc/dmlc-core.git) registered for path 'third_party/minigun/third_party/dmlc-core'\n",
            "Submodule 'third_party/moderngpu' (https://github.com/moderngpu/moderngpu.git) registered for path 'third_party/minigun/third_party/moderngpu'\n",
            "Cloning into '/content/dgl/third_party/minigun/third_party/dlpack'...\n",
            "remote: Enumerating objects: 254, done.        \n",
            "remote: Counting objects: 100% (92/92), done.        \n",
            "remote: Compressing objects: 100% (49/49), done.        \n",
            "remote: Total 254 (delta 29), reused 45 (delta 14), pack-reused 162        \n",
            "Receiving objects: 100% (254/254), 103.91 KiB | 1.60 MiB/s, done.\n",
            "Resolving deltas: 100% (85/85), done.\n",
            "Cloning into '/content/dgl/third_party/minigun/third_party/dmlc-core'...\n",
            "remote: Enumerating objects: 6193, done.        \n",
            "remote: Counting objects: 100% (57/57), done.        \n",
            "remote: Compressing objects: 100% (42/42), done.        \n",
            "remote: Total 6193 (delta 16), reused 27 (delta 5), pack-reused 6136        \n",
            "Receiving objects: 100% (6193/6193), 1.62 MiB | 13.03 MiB/s, done.\n",
            "Resolving deltas: 100% (3762/3762), done.\n",
            "Cloning into '/content/dgl/third_party/minigun/third_party/moderngpu'...\n",
            "remote: Enumerating objects: 1345, done.        \n",
            "remote: Total 1345 (delta 0), reused 0 (delta 0), pack-reused 1345        \n",
            "Receiving objects: 100% (1345/1345), 6.74 MiB | 21.55 MiB/s, done.\n",
            "Resolving deltas: 100% (679/679), done.\n",
            "Submodule path 'third_party/minigun/third_party/dlpack': checked out 'a4aa2f516b995e5241331db128bec527d24f4cb6'\n",
            "Submodule path 'third_party/minigun/third_party/dmlc-core': checked out '3ffea8694adf9c0363f9abbf162dc0e4a45b22c5'\n",
            "Submodule path 'third_party/minigun/third_party/moderngpu': checked out '9ac571cd089f61b04eba79fe355175b1182dc514'\n",
            "Submodule path 'third_party/nanoflann': checked out '4c47ca200209550c5628c89803591f8a753c8181'\n",
            "Submodule path 'third_party/nccl': checked out '911d61f214d45c98df1ee8c0ac23c33fb94b63de'\n",
            "Submodule path 'third_party/phmap': checked out '25293cefd8b85491b45600c03fe8edf07647553f'\n",
            "Submodule path 'third_party/thrust': checked out '0ef5c509856e12cc408f0f00ed586b4c5b1a155c'\n",
            "Submodule 'cub' (https://github.com/NVIDIA/cub.git) registered for path 'third_party/thrust/dependencies/cub'\n",
            "Cloning into '/content/dgl/third_party/thrust/dependencies/cub'...\n",
            "remote: Enumerating objects: 29444, done.        \n",
            "remote: Counting objects: 100% (691/691), done.        \n",
            "remote: Compressing objects: 100% (309/309), done.        \n",
            "remote: Total 29444 (delta 441), reused 546 (delta 380), pack-reused 28753        \n",
            "Receiving objects: 100% (29444/29444), 15.68 MiB | 25.28 MiB/s, done.\n",
            "Resolving deltas: 100% (25101/25101), done.\n",
            "Submodule path 'third_party/thrust/dependencies/cub': checked out 'a3ee304a1f8e22f278df10600df2e4b333012592'\n",
            "Submodule path 'third_party/tvm': checked out 'b2e418cb109df4cd1f17a2cf2894a1b396a6b838'\n",
            "Submodule 'dlpack' (https://github.com/dmlc/dlpack) registered for path 'third_party/tvm/3rdparty/dlpack'\n",
            "Submodule 'dmlc-core' (https://github.com/dmlc/dmlc-core) registered for path 'third_party/tvm/3rdparty/dmlc-core'\n",
            "Submodule '3rdparty/rang' (https://github.com/agauniyal/rang) registered for path 'third_party/tvm/3rdparty/rang'\n",
            "Submodule '3rdparty/vta-hw' (https://github.com/apache/incubator-tvm-vta) registered for path 'third_party/tvm/3rdparty/vta-hw'\n",
            "Cloning into '/content/dgl/third_party/tvm/3rdparty/dlpack'...\n",
            "remote: Enumerating objects: 254, done.        \n",
            "remote: Counting objects: 100% (92/92), done.        \n",
            "remote: Compressing objects: 100% (49/49), done.        \n",
            "remote: Total 254 (delta 29), reused 45 (delta 14), pack-reused 162        \n",
            "Receiving objects: 100% (254/254), 103.91 KiB | 2.16 MiB/s, done.\n",
            "Resolving deltas: 100% (85/85), done.\n",
            "Cloning into '/content/dgl/third_party/tvm/3rdparty/dmlc-core'...\n",
            "remote: Enumerating objects: 6193, done.        \n",
            "remote: Counting objects: 100% (57/57), done.        \n",
            "remote: Compressing objects: 100% (42/42), done.        \n",
            "remote: Total 6193 (delta 16), reused 27 (delta 5), pack-reused 6136        \n",
            "Receiving objects: 100% (6193/6193), 1.62 MiB | 13.03 MiB/s, done.\n",
            "Resolving deltas: 100% (3762/3762), done.\n",
            "Cloning into '/content/dgl/third_party/tvm/3rdparty/rang'...\n",
            "remote: Enumerating objects: 731, done.        \n",
            "remote: Counting objects: 100% (27/27), done.        \n",
            "remote: Compressing objects: 100% (23/23), done.        \n",
            "remote: Total 731 (delta 7), reused 15 (delta 3), pack-reused 704        \n",
            "Receiving objects: 100% (731/731), 264.09 KiB | 3.30 MiB/s, done.\n",
            "Resolving deltas: 100% (369/369), done.\n",
            "Cloning into '/content/dgl/third_party/tvm/3rdparty/vta-hw'...\n",
            "remote: Enumerating objects: 3162, done.        \n",
            "remote: Counting objects: 100% (111/111), done.        \n",
            "remote: Compressing objects: 100% (94/94), done.        \n",
            "remote: Total 3162 (delta 38), reused 40 (delta 11), pack-reused 3051        \n",
            "Receiving objects: 100% (3162/3162), 1.45 MiB | 9.78 MiB/s, done.\n",
            "Resolving deltas: 100% (1288/1288), done.\n",
            "Submodule path 'third_party/tvm/3rdparty/dlpack': checked out '3ec04430e89a6834e5a1b99471f415fa939bf642'\n",
            "Submodule path 'third_party/tvm/3rdparty/dmlc-core': checked out '6c401e242c59a1f4c913918246591bb13fd714e7'\n",
            "Submodule path 'third_party/tvm/3rdparty/rang': checked out 'cabe04d6d6b05356fa8f9741704924788f0dd762'\n",
            "Submodule path 'third_party/tvm/3rdparty/vta-hw': checked out '87ce9acfae550d1a487746e9d06c2e250076e54c'\n",
            "Submodule path 'third_party/xbyak': checked out '0140eeff1fffcf5069dea3abb57095695320971c'\n"
          ],
          "name": "stdout"
        }
      ]
    },
    {
      "cell_type": "code",
      "metadata": {
        "colab": {
          "base_uri": "https://localhost:8080/"
        },
        "id": "UxGAAlwyNMQ9",
        "outputId": "395d2847-5e93-4685-ef3c-d955929a15da"
      },
      "source": [
        "%cd dgl"
      ],
      "execution_count": null,
      "outputs": [
        {
          "output_type": "stream",
          "text": [
            "/content/dgl\n"
          ],
          "name": "stdout"
        }
      ]
    },
    {
      "cell_type": "code",
      "metadata": {
        "colab": {
          "base_uri": "https://localhost:8080/"
        },
        "id": "gdZt6w8QNOYm",
        "outputId": "dfab2187-64a5-4d5d-b349-57af5adec1ae"
      },
      "source": [
        "!pip install dgl"
      ],
      "execution_count": null,
      "outputs": [
        {
          "output_type": "stream",
          "text": [
            "Collecting dgl\n",
            "  Downloading dgl-0.6.1-cp37-cp37m-manylinux1_x86_64.whl (4.4 MB)\n",
            "\u001b[K     |████████████████████████████████| 4.4 MB 5.1 MB/s \n",
            "\u001b[?25hRequirement already satisfied: numpy>=1.14.0 in /usr/local/lib/python3.7/dist-packages (from dgl) (1.19.5)\n",
            "Requirement already satisfied: scipy>=1.1.0 in /usr/local/lib/python3.7/dist-packages (from dgl) (1.4.1)\n",
            "Requirement already satisfied: requests>=2.19.0 in /usr/local/lib/python3.7/dist-packages (from dgl) (2.23.0)\n",
            "Requirement already satisfied: networkx>=2.1 in /usr/local/lib/python3.7/dist-packages (from dgl) (2.5.1)\n",
            "Requirement already satisfied: decorator<5,>=4.3 in /usr/local/lib/python3.7/dist-packages (from networkx>=2.1->dgl) (4.4.2)\n",
            "Requirement already satisfied: certifi>=2017.4.17 in /usr/local/lib/python3.7/dist-packages (from requests>=2.19.0->dgl) (2021.5.30)\n",
            "Requirement already satisfied: chardet<4,>=3.0.2 in /usr/local/lib/python3.7/dist-packages (from requests>=2.19.0->dgl) (3.0.4)\n",
            "Requirement already satisfied: idna<3,>=2.5 in /usr/local/lib/python3.7/dist-packages (from requests>=2.19.0->dgl) (2.10)\n",
            "Requirement already satisfied: urllib3!=1.25.0,!=1.25.1,<1.26,>=1.21.1 in /usr/local/lib/python3.7/dist-packages (from requests>=2.19.0->dgl) (1.24.3)\n",
            "Installing collected packages: dgl\n",
            "Successfully installed dgl-0.6.1\n"
          ],
          "name": "stdout"
        }
      ]
    },
    {
      "cell_type": "code",
      "metadata": {
        "colab": {
          "base_uri": "https://localhost:8080/"
        },
        "id": "gRVfreoWNR5B",
        "outputId": "9143558a-ac80-464a-e7de-a91cbf18229a"
      },
      "source": [
        "%cd /content"
      ],
      "execution_count": null,
      "outputs": [
        {
          "output_type": "stream",
          "text": [
            "/content\n"
          ],
          "name": "stdout"
        }
      ]
    },
    {
      "cell_type": "code",
      "metadata": {
        "colab": {
          "base_uri": "https://localhost:8080/"
        },
        "id": "71f3OnAHLhPt",
        "outputId": "9150fd9c-4f3e-4b5e-865b-fe96e233b563"
      },
      "source": [
        "import dgl\n",
        "import torch\n",
        "import torch.nn as nn\n",
        "import torch.nn.functional as F"
      ],
      "execution_count": null,
      "outputs": [
        {
          "output_type": "stream",
          "text": [
            "Setting the default backend to \"pytorch\". You can change it in the ~/.dgl/config.json file or export the DGLBACKEND environment variable.  Valid options are: pytorch, mxnet, tensorflow (all lowercase)\n"
          ],
          "name": "stdout"
        },
        {
          "output_type": "stream",
          "text": [
            "DGL backend not selected or invalid.  Assuming PyTorch for now.\n",
            "Using backend: pytorch\n"
          ],
          "name": "stderr"
        }
      ]
    },
    {
      "cell_type": "markdown",
      "metadata": {
        "id": "8tQLMZO9Nkft"
      },
      "source": [
        "# Loading Data"
      ]
    },
    {
      "cell_type": "code",
      "metadata": {
        "colab": {
          "base_uri": "https://localhost:8080/"
        },
        "id": "DZJl6rKdMNj3",
        "outputId": "000dfd04-2bae-440e-95c5-6ae7c786d47e"
      },
      "source": [
        "import dgl.data\n",
        "\n",
        "dataset = dgl.data.CoraGraphDataset()\n",
        "print('Number of categories:', dataset.num_classes)"
      ],
      "execution_count": null,
      "outputs": [
        {
          "output_type": "stream",
          "text": [
            "Downloading /root/.dgl/cora_v2.zip from https://data.dgl.ai/dataset/cora_v2.zip...\n",
            "Extracting file to /root/.dgl/cora_v2\n",
            "Finished data loading and preprocessing.\n",
            "  NumNodes: 2708\n",
            "  NumEdges: 10556\n",
            "  NumFeats: 1433\n",
            "  NumClasses: 7\n",
            "  NumTrainingSamples: 140\n",
            "  NumValidationSamples: 500\n",
            "  NumTestSamples: 1000\n",
            "Done saving data into cached files.\n",
            "Number of categories: 7\n"
          ],
          "name": "stdout"
        }
      ]
    },
    {
      "cell_type": "code",
      "metadata": {
        "id": "CvdtWZNoN7qZ"
      },
      "source": [
        "g = dataset[0] # CoraGraphDataset只有一張圖，所以只讀的到第0筆資料"
      ],
      "execution_count": null,
      "outputs": []
    },
    {
      "cell_type": "code",
      "metadata": {
        "colab": {
          "base_uri": "https://localhost:8080/"
        },
        "id": "RT38y2P8N-BS",
        "outputId": "be41e45f-2e17-45a0-ca9f-411b45b13a9d"
      },
      "source": [
        "# 透過graph._data可取得特徵資料, _可填入：\n",
        "# e:表示邊的資料\n",
        "# n:表示點的資料\n",
        "print('Node features:') \n",
        "print(g.ndata)  \n",
        "print('Edge features:')\n",
        "print(g.edata)"
      ],
      "execution_count": null,
      "outputs": [
        {
          "output_type": "stream",
          "text": [
            "Node features:\n",
            "{'train_mask': tensor([ True,  True,  True,  ..., False, False, False]), 'val_mask': tensor([False, False, False,  ..., False, False, False]), 'test_mask': tensor([False, False, False,  ...,  True,  True,  True]), 'label': tensor([3, 4, 4,  ..., 3, 3, 3]), 'feat': tensor([[0., 0., 0.,  ..., 0., 0., 0.],\n",
            "        [0., 0., 0.,  ..., 0., 0., 0.],\n",
            "        [0., 0., 0.,  ..., 0., 0., 0.],\n",
            "        ...,\n",
            "        [0., 0., 0.,  ..., 0., 0., 0.],\n",
            "        [0., 0., 0.,  ..., 0., 0., 0.],\n",
            "        [0., 0., 0.,  ..., 0., 0., 0.]])}\n",
            "Edge features:\n",
            "{}\n"
          ],
          "name": "stdout"
        }
      ]
    },
    {
      "cell_type": "code",
      "metadata": {
        "colab": {
          "base_uri": "https://localhost:8080/"
        },
        "id": "mVcDX3h9RW2N",
        "outputId": "98a94a47-1cae-42f6-81c2-3543e5b45325"
      },
      "source": [
        "g.ndata['feat'].shape"
      ],
      "execution_count": null,
      "outputs": [
        {
          "output_type": "execute_result",
          "data": {
            "text/plain": [
              "torch.Size([2708, 1433])"
            ]
          },
          "metadata": {
            "tags": []
          },
          "execution_count": 21
        }
      ]
    },
    {
      "cell_type": "markdown",
      "metadata": {
        "id": "REvODqKAQEPi"
      },
      "source": [
        "# Define a GCN"
      ]
    },
    {
      "cell_type": "code",
      "metadata": {
        "id": "otM7po8OO4sW"
      },
      "source": [
        "from dgl.nn import GraphConv\n",
        "\n",
        "class GCN(nn.Module):\n",
        "    def __init__(self, in_feats, h_feats, num_classes):\n",
        "        super(GCN, self).__init__()\n",
        "        self.conv1 = GraphConv(in_feats, h_feats)\n",
        "        self.conv2 = GraphConv(h_feats, num_classes)\n",
        "\n",
        "    def forward(self, g, in_feat):\n",
        "        h = self.conv1(g, in_feat)  # Forward時, 傳入圖 & 資料的維度(有多少筆特徵)\n",
        "        h = F.relu(h)\n",
        "        h = self.conv2(g, h)\n",
        "        return h\n",
        "\n",
        "# Create the model with given dimensions\n",
        "model = GCN(g.ndata['feat'].shape[1], 16, dataset.num_classes)"
      ],
      "execution_count": null,
      "outputs": []
    },
    {
      "cell_type": "markdown",
      "metadata": {
        "id": "mKysCSuCSGzv"
      },
      "source": [
        "# Training"
      ]
    },
    {
      "cell_type": "code",
      "metadata": {
        "colab": {
          "base_uri": "https://localhost:8080/"
        },
        "id": "lGY2nWdBSD53",
        "outputId": "9cc876ca-e4a5-4425-be88-2c75a4b94e74"
      },
      "source": [
        "def train(g, model):\n",
        "    optimizer = torch.optim.Adam(model.parameters(), lr=0.01)\n",
        "    best_val_acc = 0\n",
        "    best_test_acc = 0\n",
        "\n",
        "    features = g.ndata['feat']\n",
        "    labels = g.ndata['label']\n",
        "    train_mask = g.ndata['train_mask']\n",
        "    val_mask = g.ndata['val_mask']\n",
        "    test_mask = g.ndata['test_mask']\n",
        "    for e in range(100):\n",
        "        # Forward\n",
        "        logits = model(g, features) # 會自動呼叫model.forward, 其中g作為圖傳入, features則做為資料維度傳入\n",
        "\n",
        "        # Compute prediction\n",
        "        pred = logits.argmax(1) # 透過argmax分類\n",
        "\n",
        "        # Compute loss\n",
        "        # Note that you should only compute the losses of the nodes in the training set.\n",
        "        loss = F.cross_entropy(logits[train_mask], labels[train_mask])\n",
        "\n",
        "        # Compute accuracy on training/validation/test\n",
        "        train_acc = (pred[train_mask] == labels[train_mask]).float().mean()\n",
        "        val_acc = (pred[val_mask] == labels[val_mask]).float().mean()\n",
        "        test_acc = (pred[test_mask] == labels[test_mask]).float().mean()\n",
        "\n",
        "        # Save the best validation accuracy and the corresponding test accuracy.\n",
        "        if best_val_acc < val_acc:\n",
        "            best_val_acc = val_acc\n",
        "            best_test_acc = test_acc\n",
        "\n",
        "        # Backward\n",
        "        optimizer.zero_grad()\n",
        "        loss.backward()\n",
        "        optimizer.step()\n",
        "\n",
        "        if e % 5 == 0:\n",
        "            print('In epoch {}, loss: {:.3f}, val acc: {:.3f} (best {:.3f}), test acc: {:.3f} (best {:.3f})'.format(\n",
        "                e, loss, val_acc, best_val_acc, test_acc, best_test_acc))\n",
        "\n",
        "model = GCN(g.ndata['feat'].shape[1], 16, dataset.num_classes)\n",
        "train(g, model)"
      ],
      "execution_count": null,
      "outputs": [
        {
          "output_type": "stream",
          "text": [
            "In epoch 0, loss: 1.946, val acc: 0.102 (best 0.102), test acc: 0.115 (best 0.115)\n",
            "In epoch 5, loss: 1.908, val acc: 0.572 (best 0.572), test acc: 0.594 (best 0.594)\n",
            "In epoch 10, loss: 1.842, val acc: 0.600 (best 0.600), test acc: 0.616 (best 0.607)\n",
            "In epoch 15, loss: 1.753, val acc: 0.622 (best 0.622), test acc: 0.676 (best 0.676)\n",
            "In epoch 20, loss: 1.638, val acc: 0.678 (best 0.678), test acc: 0.699 (best 0.699)\n",
            "In epoch 25, loss: 1.497, val acc: 0.692 (best 0.692), test acc: 0.712 (best 0.712)\n",
            "In epoch 30, loss: 1.337, val acc: 0.720 (best 0.720), test acc: 0.721 (best 0.721)\n",
            "In epoch 35, loss: 1.163, val acc: 0.726 (best 0.728), test acc: 0.737 (best 0.735)\n",
            "In epoch 40, loss: 0.987, val acc: 0.724 (best 0.728), test acc: 0.735 (best 0.735)\n",
            "In epoch 45, loss: 0.818, val acc: 0.726 (best 0.728), test acc: 0.748 (best 0.735)\n",
            "In epoch 50, loss: 0.666, val acc: 0.734 (best 0.734), test acc: 0.755 (best 0.755)\n",
            "In epoch 55, loss: 0.535, val acc: 0.744 (best 0.744), test acc: 0.757 (best 0.758)\n",
            "In epoch 60, loss: 0.427, val acc: 0.740 (best 0.744), test acc: 0.754 (best 0.758)\n",
            "In epoch 65, loss: 0.341, val acc: 0.740 (best 0.744), test acc: 0.758 (best 0.758)\n",
            "In epoch 70, loss: 0.274, val acc: 0.742 (best 0.744), test acc: 0.760 (best 0.758)\n",
            "In epoch 75, loss: 0.221, val acc: 0.742 (best 0.744), test acc: 0.765 (best 0.758)\n",
            "In epoch 80, loss: 0.181, val acc: 0.744 (best 0.744), test acc: 0.767 (best 0.758)\n",
            "In epoch 85, loss: 0.150, val acc: 0.746 (best 0.746), test acc: 0.766 (best 0.768)\n",
            "In epoch 90, loss: 0.125, val acc: 0.744 (best 0.746), test acc: 0.761 (best 0.768)\n",
            "In epoch 95, loss: 0.106, val acc: 0.746 (best 0.746), test acc: 0.765 (best 0.768)\n"
          ],
          "name": "stdout"
        }
      ]
    }
  ]
}