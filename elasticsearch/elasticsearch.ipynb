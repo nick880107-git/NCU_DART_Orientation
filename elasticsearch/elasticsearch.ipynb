{
 "cells": [
  {
   "cell_type": "markdown",
   "source": [
    "# Connect to local Elasticsearch\r\n",
    "先連上我們在本地電腦架設的Elasticsearch資料庫\r\n",
    "\r\n",
    "若沒有進行任何調整，預設hosts 是 '127.0.0.1', port 在 9200\r\n",
    "\r\n",
    "要架設本地端的Elasticsearch資料庫，只要在./elasticsearch/bin/中於cmd執行   \".\\elasticsearch\" 即可"
   ],
   "metadata": {}
  },
  {
   "cell_type": "code",
   "execution_count": 1,
   "source": [
    "from elasticsearch import Elasticsearch\r\n",
    "\r\n",
    "es = Elasticsearch(hosts='127.0.0.1', port=9200)"
   ],
   "outputs": [],
   "metadata": {}
  },
  {
   "cell_type": "markdown",
   "source": [
    "# Create Index and Set Mappings\r\n",
    "\r\n",
    "先宣告要新建的資料庫 index，以及欄位資料的\"型式\"、\"格式\"等等的 mappings \r\n",
    "\r\n",
    "mappings讓你在新增資料時，會先檢查文件document 對應資料的內容是否符合標準，避免存入不正確的資料\r\n",
    "\r\n",
    "另一個用途則是能進行更有效率地檢索(如text 跟 keyword，雖然都接受string型態的資料，但在檢索的時候text只要有任一字元符合就會回傳，而keyword則必須全部符合才會回傳)\r\n",
    "\r\n"
   ],
   "metadata": {}
  },
  {
   "cell_type": "code",
   "execution_count": 2,
   "source": [
    "mappings = {\r\n",
    "    \"settings\": {\r\n",
    "        \"number_of_shards\": 2,\r\n",
    "        \"number_of_replicas\": 1\r\n",
    "    },\r\n",
    "    \"mappings\":{\r\n",
    "        \"properties\": {\r\n",
    "            \"id\": {\r\n",
    "                \"type\": \"integer\"\r\n",
    "            },\r\n",
    "            \"first_name\": {\r\n",
    "                \"type\": \"keyword\"\r\n",
    "            },\r\n",
    "            \"last_name\": {\r\n",
    "                \"type\": \"keyword\"\r\n",
    "            },\r\n",
    "            \"email\": {\r\n",
    "                \"type\": \"keyword\"\r\n",
    "            }\r\n",
    "        }\r\n",
    "    }\r\n",
    "        \r\n",
    "}\r\n",
    "\r\n",
    "es.indices.create(index=\"test\", body=mappings)"
   ],
   "outputs": [
    {
     "output_type": "stream",
     "name": "stderr",
     "text": [
      "D:\\anaconda3\\envs\\pyod\\lib\\site-packages\\elasticsearch\\connection\\base.py:208: ElasticsearchWarning: Elasticsearch built-in security features are not enabled. Without authentication, your cluster could be accessible to anyone. See https://www.elastic.co/guide/en/elasticsearch/reference/7.14/security-minimal-setup.html to enable security.\n",
      "  warnings.warn(message, category=ElasticsearchWarning)\n"
     ]
    },
    {
     "output_type": "execute_result",
     "data": {
      "text/plain": [
       "{'acknowledged': True, 'shards_acknowledged': True, 'index': 'test'}"
      ]
     },
     "metadata": {},
     "execution_count": 2
    }
   ],
   "metadata": {}
  },
  {
   "cell_type": "markdown",
   "source": [
    "# Create Data\r\n",
    "利用[Mockaroo](https://mockaroo.com/)生成資料\r\n",
    "\r\n",
    "Elasticsearch.index(index=\"指定資料庫名稱\", id=\"該筆資料id\", body=\"document內容\")\r\n",
    "\r\n",
    "id不給也行，只是我們的資料有自己的id，後續比較好做比對"
   ],
   "metadata": {}
  },
  {
   "cell_type": "code",
   "execution_count": 3,
   "source": [
    "import csv\r\n",
    "file = csv.DictReader(open(\"MOCK_DATA.csv\"))\r\n",
    "for row in file:\r\n",
    "    doc = {\r\n",
    "        \"id\": row['id'],\r\n",
    "        \"first_name\": row['first_name'],\r\n",
    "        \"last_name\": row['last_name'],\r\n",
    "        \"email\": row['email']\r\n",
    "    }\r\n",
    "    res = es.index(index='test', id=row['id'], body = doc)"
   ],
   "outputs": [],
   "metadata": {}
  },
  {
   "cell_type": "markdown",
   "source": [
    "# Get Data\r\n",
    "Elasticsearch.get(index='指定資料庫名稱', id='目標id')"
   ],
   "metadata": {}
  },
  {
   "cell_type": "code",
   "execution_count": 4,
   "source": [
    "res = es.get(index=\"test\", id=599)\r\n",
    "print(res['_source'])"
   ],
   "outputs": [
    {
     "output_type": "stream",
     "name": "stdout",
     "text": [
      "{'id': '599', 'first_name': 'Mateo', 'last_name': 'Hebditch', 'email': 'mhebditchgm@ted.com'}\n"
     ]
    }
   ],
   "metadata": {}
  },
  {
   "cell_type": "markdown",
   "source": [
    "# Search Data\r\n",
    "\r\n",
    "### bool\r\n",
    "\r\n",
    "- must相當於and，符合此區塊下所有條件的資料才會被選中\r\n",
    "\r\n",
    "- should相當於or，符合此區塊下任一條件的資料才會被選中\r\n",
    "\r\n",
    "- must_not跟must功能一樣，只是從選中符合條件的資料變成排除符合條件的資料\r\n",
    "\r\n",
    "- term/terms用於指定條件，並且不會將條件分詞(必須完全符合)，兩者差別僅在條件數量\r\n",
    "\r\n",
    "- match也是用於指定條件，只是會將條件分詞(包含條件中的任一字即可)\r\n",
    "\r\n",
    "### range\r\n",
    "\r\n",
    "- gt Greater than.\r\n",
    "- gte Greater than or equal to.\r\n",
    "- lt Less than.\r\n",
    "- lte Less than or equal to.\r\n",
    "\r\n",
    "### search\r\n",
    "透過撰寫query並使用Elasticsearch.search(index=\"指定資料庫名稱\", body=\"query 內容\")\r\n",
    "\r\n",
    "列印res['hits']即可，內容包括：\r\n",
    "\r\n",
    "total：檢索到的目標數\r\n",
    "\r\n",
    "hits：檢索到的目標"
   ],
   "metadata": {}
  },
  {
   "cell_type": "code",
   "execution_count": 5,
   "source": [
    "# 檢索email為mhebditchgm@ted.com的資料(就是前面id = 599的資料)\r\n",
    "\r\n",
    "query = {\r\n",
    "    \"query\": {\r\n",
    "        \"bool\": {\r\n",
    "            \"must\": [\r\n",
    "                { \"match\": { \"email\": \"mhebditchgm@ted.com\" }}\r\n",
    "            ]\r\n",
    "        }\r\n",
    "    }\r\n",
    "}\r\n",
    "\r\n",
    "res = es.search(index=\"test\", body=query)\r\n",
    "print(res['hits'])"
   ],
   "outputs": [
    {
     "output_type": "stream",
     "name": "stdout",
     "text": [
      "{'total': {'value': 1, 'relation': 'eq'}, 'max_score': 5.7493925, 'hits': [{'_index': 'test', '_type': '_doc', '_id': '599', '_score': 5.7493925, '_source': {'id': '599', 'first_name': 'Mateo', 'last_name': 'Hebditch', 'email': 'mhebditchgm@ted.com'}}]}\n"
     ]
    }
   ],
   "metadata": {}
  },
  {
   "cell_type": "code",
   "execution_count": 6,
   "source": [
    "# 檢索id>10, <=20的資料\r\n",
    "query = {\r\n",
    "    \"query\": {\r\n",
    "        \"range\":{\r\n",
    "            \"id\":{\r\n",
    "                \"gt\":10,\r\n",
    "                \"lte\":20\r\n",
    "            }            \r\n",
    "        }        \r\n",
    "    }\r\n",
    "}\r\n",
    "res = es.search(index=\"test\", body=query)\r\n"
   ],
   "outputs": [],
   "metadata": {}
  },
  {
   "cell_type": "code",
   "execution_count": 7,
   "source": [
    "# 由前面的範例可觀察到，資料儲存於res[\"hits\"]中的hits key\r\n",
    "# 為方便呈現，透過迴圈列印資料\r\n",
    "for hit in res[\"hits\"][\"hits\"]:\r\n",
    "    print(hit[\"_source\"])"
   ],
   "outputs": [
    {
     "output_type": "stream",
     "name": "stdout",
     "text": [
      "{'id': '11', 'first_name': 'Enrico', 'last_name': 'Dowd', 'email': 'edowda@blogtalkradio.com'}\n",
      "{'id': '16', 'first_name': 'Jereme', 'last_name': 'Bayford', 'email': 'jbayfordf@tiny.cc'}\n",
      "{'id': '18', 'first_name': 'Collette', 'last_name': 'Kinchlea', 'email': 'ckinchleah@theglobeandmail.com'}\n",
      "{'id': '19', 'first_name': 'Sydney', 'last_name': 'Ebbetts', 'email': 'sebbettsi@marketwatch.com'}\n",
      "{'id': '12', 'first_name': 'Rae', 'last_name': 'Drakers', 'email': 'rdrakersb@sbwire.com'}\n",
      "{'id': '13', 'first_name': 'Kirstin', 'last_name': 'Dugall', 'email': 'kdugallc@thetimes.co.uk'}\n",
      "{'id': '14', 'first_name': 'Towney', 'last_name': 'Beininck', 'email': 'tbeininckd@jigsy.com'}\n",
      "{'id': '15', 'first_name': 'Maire', 'last_name': 'Forestel', 'email': 'mforestele@posterous.com'}\n",
      "{'id': '17', 'first_name': 'Janifer', 'last_name': 'Gange', 'email': 'jgangeg@networksolutions.com'}\n",
      "{'id': '20', 'first_name': 'Haroun', 'last_name': 'Hollingsbee', 'email': 'hhollingsbeej@webnode.com'}\n"
     ]
    }
   ],
   "metadata": {}
  },
  {
   "cell_type": "markdown",
   "source": [
    "# Search Data by SQL\r\n",
    "你也可以透過SQL語法進行查詢\r\n",
    "\r\n",
    "透過 Elasticsearch.sql.query(body={'query':\"你的SQL指令\"})\r\n",
    "\r\n",
    "結果會回傳在res['row']裡面"
   ],
   "metadata": {}
  },
  {
   "cell_type": "code",
   "execution_count": 8,
   "source": [
    "sql = \"\"\"\r\n",
    "select count(*) \r\n",
    "from test \r\n",
    "\"\"\"\r\n",
    "\r\n",
    "res = es.sql.query(body={'query': sql})\r\n",
    "print(res['rows'])"
   ],
   "outputs": [
    {
     "output_type": "stream",
     "name": "stdout",
     "text": [
      "[[1000]]\n"
     ]
    }
   ],
   "metadata": {}
  },
  {
   "cell_type": "markdown",
   "source": [
    "# Delete document\r\n",
    "\r\n",
    "- delete index :　es.indices.delete(index='test')\r\n",
    "\r\n",
    "- delete document： es.indices.delete(index='test',id='id')"
   ],
   "metadata": {}
  },
  {
   "cell_type": "code",
   "execution_count": 9,
   "source": [
    "es.indices.delete(index='test')"
   ],
   "outputs": [
    {
     "output_type": "execute_result",
     "data": {
      "text/plain": [
       "{'acknowledged': True}"
      ]
     },
     "metadata": {},
     "execution_count": 9
    }
   ],
   "metadata": {}
  }
 ],
 "metadata": {
  "orig_nbformat": 4,
  "language_info": {
   "name": "python",
   "version": "3.7.11",
   "mimetype": "text/x-python",
   "codemirror_mode": {
    "name": "ipython",
    "version": 3
   },
   "pygments_lexer": "ipython3",
   "nbconvert_exporter": "python",
   "file_extension": ".py"
  },
  "kernelspec": {
   "name": "python3",
   "display_name": "Python 3.7.11 64-bit ('pyod': conda)"
  },
  "interpreter": {
   "hash": "ab0180f7c6e22ac4b34d1890ac014250a78edec810a3be1e4c3bfd4632023176"
  }
 },
 "nbformat": 4,
 "nbformat_minor": 2
}