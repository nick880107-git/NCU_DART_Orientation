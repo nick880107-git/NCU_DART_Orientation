{
 "cells": [
  {
   "cell_type": "markdown",
   "source": [
    "# Define Our Documents"
   ],
   "metadata": {}
  },
  {
   "cell_type": "code",
   "execution_count": 1,
   "source": [
    "documents = [\r\n",
    "    \"Human machine interface for lab abc computer applications\",\r\n",
    "    \"A survey of user opinion of computer system response time\",\r\n",
    "    \"The EPS user interface management system\",\r\n",
    "    \"System and human system engineering testing of EPS\",\r\n",
    "    \"Relation of user perceived response time to error measurement\",\r\n",
    "    \"The generation of random binary unordered trees\",\r\n",
    "    \"The intersection graph of paths in trees\",\r\n",
    "    \"Graph minors IV Widths of trees and well quasi ordering\",\r\n",
    "    \"Graph minors A survey\",\r\n",
    "]"
   ],
   "outputs": [],
   "metadata": {}
  },
  {
   "cell_type": "markdown",
   "source": [
    "# Preprocess"
   ],
   "metadata": {}
  },
  {
   "cell_type": "code",
   "execution_count": 2,
   "source": [
    "# defaultdict: collections的一類，用於查找字典遇到不存在的key值時，自動賦予該key一初始值(透過函數產生)並回傳\r\n",
    "from collections import defaultdict\r\n",
    "\r\n",
    "# 列舉常見的停用字，並將documents中的停用字刪除 & 切分\r\n",
    "stoplist = set('for a of the and to in'.split())\r\n",
    "texts = [\r\n",
    "    [word for word in document.lower().split() if word not in stoplist]\r\n",
    "    for document in documents\r\n",
    "]\r\n",
    "\r\n",
    "# 利用字典計算documents中的所有詞出現的頻率\r\n",
    "frequency = defaultdict(int)\r\n",
    "for text in texts:\r\n",
    "    for token in text:\r\n",
    "        frequency[token] += 1\r\n",
    "# 刪除出現頻率<=1的字詞\r\n",
    "texts = [\r\n",
    "    [token for token in text if frequency[token] > 1]\r\n",
    "    for text in texts\r\n",
    "]"
   ],
   "outputs": [],
   "metadata": {}
  },
  {
   "cell_type": "code",
   "execution_count": 3,
   "source": [
    "# 將前面處理好的documents轉成字典(字詞：token id)，並以此將前面處理好的documents轉為BoW vector表示\r\n",
    "from gensim import corpora\r\n",
    "dictionary = corpora.Dictionary(texts)\r\n",
    "bow_corpus = [dictionary.doc2bow(text) for text in texts]"
   ],
   "outputs": [
    {
     "output_type": "stream",
     "name": "stderr",
     "text": [
      "D:\\anaconda3\\envs\\pyod\\lib\\site-packages\\gensim\\similarities\\__init__.py:15: UserWarning: The gensim.similarities.levenshtein submodule is disabled, because the optional Levenshtein package <https://pypi.org/project/python-Levenshtein/> is unavailable. Install Levenhstein (e.g. `pip install python-Levenshtein`) to suppress this warning.\n",
      "  warnings.warn(msg)\n"
     ]
    }
   ],
   "metadata": {}
  },
  {
   "cell_type": "markdown",
   "source": [
    "# Train with TF-IDF"
   ],
   "metadata": {}
  },
  {
   "cell_type": "code",
   "execution_count": 6,
   "source": [
    "# 將經過處理的documents(去停用字並轉成vector的corpus)丟到TF-IDF模型訓練\r\n",
    "from gensim import models\r\n",
    "tfidf = models.TfidfModel(bow_corpus)"
   ],
   "outputs": [],
   "metadata": {}
  },
  {
   "cell_type": "code",
   "execution_count": 14,
   "source": [
    "# 可透過gensim的similarities類計算相似度\r\n",
    "# 將corpus透過TF-IDF模型表示，並作為參數餵入到MatrixSimilarity\r\n",
    "from gensim import similarities\r\n",
    "corpus_tfidf = tfidf[bow_corpus]\r\n",
    "index = similarities.MatrixSimilarity(corpus_tfidf)\r\n",
    "\r\n",
    "# 將你想檢測的documents轉換成TF-IDF表示\r\n",
    "new_doc = \"Human computer interaction\"\r\n",
    "new_vec = dictionary.doc2bow(new_doc.lower().split())\r\n",
    "vec_tdidf = tfidf[new_vec]\r\n",
    "\r\n",
    "# 計算相似度分數(方法類似array 的 index，將你想計算相似度的documents作為index即可)\r\n",
    "sims = index[vec_tdidf]\r\n",
    "sims = sorted(enumerate(sims), key= lambda item: -item[1])\r\n",
    "print(sims,'\\n')\r\n",
    "\r\n",
    "print('{:8} {:} {:}'.format('Score', '\\t', 'Document'))\r\n",
    "print('{:8} {:} {:}'.format('---','\\t','---'))\r\n",
    "for doc_position, doc_score in sims:\r\n",
    "    print('{:.6f} {:} {:}'.format(doc_score, '\\t', documents[doc_position]))"
   ],
   "outputs": [
    {
     "output_type": "stream",
     "name": "stdout",
     "text": [
      "[(0, 0.81649655), (3, 0.3477732), (1, 0.31412902), (2, 0.0), (4, 0.0), (5, 0.0), (6, 0.0), (7, 0.0), (8, 0.0)] \n",
      "\n",
      "Score    \t Document\n",
      "---      \t ---\n",
      "0.816497 \t Human machine interface for lab abc computer applications\n",
      "0.347773 \t System and human system engineering testing of EPS\n",
      "0.314129 \t A survey of user opinion of computer system response time\n",
      "0.000000 \t The EPS user interface management system\n",
      "0.000000 \t Relation of user perceived response time to error measurement\n",
      "0.000000 \t The generation of random binary unordered trees\n",
      "0.000000 \t The intersection graph of paths in trees\n",
      "0.000000 \t Graph minors IV Widths of trees and well quasi ordering\n",
      "0.000000 \t Graph minors A survey\n"
     ]
    }
   ],
   "metadata": {}
  },
  {
   "cell_type": "markdown",
   "source": [
    "# Train with LSA (LSI)\r\n",
    "\r\n",
    "原先TF-IDF認定「Human machine interface for lab abc computer」與我們的document(Human computer interaction)最為相似，但仍有改良空間\r\n",
    "\r\n",
    "(例：The EPS user interface management system 也應被列入)\r\n",
    "\r\n",
    "故試著使用別的模型處理"
   ],
   "metadata": {}
  },
  {
   "cell_type": "code",
   "execution_count": 19,
   "source": [
    "from gensim import models\r\n",
    "lsi = models.LsiModel(bow_corpus, id2word=dictionary, num_topics=2)"
   ],
   "outputs": [],
   "metadata": {}
  },
  {
   "cell_type": "code",
   "execution_count": 20,
   "source": [
    "# 同TF-IDF，只是我們模型變成了LSI\r\n",
    "corpus_lsi = lsi[bow_corpus]\r\n",
    "index = similarities.MatrixSimilarity(corpus_lsi)\r\n",
    "\r\n",
    "\r\n",
    "new_doc = \"Human computer interaction\"\r\n",
    "new_vec = dictionary.doc2bow(new_doc.lower().split())\r\n",
    "vec_lsi = lsi[new_vec]\r\n",
    "\r\n",
    "sims = index[vec_lsi]\r\n",
    "sims = sorted(enumerate(sims), key= lambda item: -item[1])\r\n",
    "print(sims,'\\n')\r\n",
    "\r\n",
    "print('{:8} {:} {:}'.format('Score', '\\t', 'Document'))\r\n",
    "print('{:8} {:} {:}'.format('---','\\t','---'))\r\n",
    "for doc_position, doc_score in sims:\r\n",
    "    print('{:.6f} {:} {:}'.format(doc_score, '\\t', documents[doc_position]))"
   ],
   "outputs": [
    {
     "output_type": "stream",
     "name": "stdout",
     "text": [
      "[(2, 0.9984453), (0, 0.998093), (3, 0.9865886), (1, 0.93748635), (4, 0.90755945), (8, 0.050041765), (7, -0.09879464), (6, -0.10639259), (5, -0.12416792)] \n",
      "\n",
      "Score    \t Document\n",
      "---      \t ---\n",
      "0.998445 \t The EPS user interface management system\n",
      "0.998093 \t Human machine interface for lab abc computer applications\n",
      "0.986589 \t System and human system engineering testing of EPS\n",
      "0.937486 \t A survey of user opinion of computer system response time\n",
      "0.907559 \t Relation of user perceived response time to error measurement\n",
      "0.050042 \t Graph minors A survey\n",
      "-0.098795 \t Graph minors IV Widths of trees and well quasi ordering\n",
      "-0.106393 \t The intersection graph of paths in trees\n",
      "-0.124168 \t The generation of random binary unordered trees\n"
     ]
    }
   ],
   "metadata": {}
  },
  {
   "cell_type": "markdown",
   "source": [
    "# Optional：Modify hyperparameter"
   ],
   "metadata": {}
  },
  {
   "cell_type": "code",
   "execution_count": 36,
   "source": [
    "# 調整corpus的topic分類數量\r\n",
    "# num_topics用於決定lsi分解出的矩陣其中之一的維度\r\n",
    "lsi = models.LsiModel(bow_corpus, id2word=dictionary, num_topics=5)"
   ],
   "outputs": [],
   "metadata": {}
  },
  {
   "cell_type": "code",
   "execution_count": 37,
   "source": [
    "# 比較看看與原先有甚麼不同\r\n",
    "corpus_lsi = lsi[bow_corpus]\r\n",
    "index = similarities.MatrixSimilarity(corpus_lsi)\r\n",
    "\r\n",
    "\r\n",
    "new_doc = \"Human computer interaction\"\r\n",
    "new_vec = dictionary.doc2bow(new_doc.lower().split())\r\n",
    "vec_lsi = lsi[new_vec]\r\n",
    "\r\n",
    "sims = index[vec_lsi]\r\n",
    "sims = sorted(enumerate(sims), key= lambda item: -item[1])\r\n",
    "print(sims,'\\n')\r\n",
    "\r\n",
    "print('{:8} {:} {:}'.format('Score', '\\t', 'Document'))\r\n",
    "print('{:8} {:} {:}'.format('---','\\t','---'))\r\n",
    "for doc_position, doc_score in sims:\r\n",
    "    print('{:.6f} {:} {:}'.format(doc_score, '\\t', documents[doc_position]))"
   ],
   "outputs": [
    {
     "output_type": "stream",
     "name": "stdout",
     "text": [
      "[(0, 0.97272426), (1, 0.31977737), (2, 0.3044809), (3, 0.24447846), (8, 0.15309832), (7, -0.03274583), (4, -0.04838741), (6, -0.09127023), (5, -0.16497499)] \n",
      "\n",
      "Score    \t Document\n",
      "---      \t ---\n",
      "0.972724 \t Human machine interface for lab abc computer applications\n",
      "0.319777 \t A survey of user opinion of computer system response time\n",
      "0.304481 \t The EPS user interface management system\n",
      "0.244478 \t System and human system engineering testing of EPS\n",
      "0.153098 \t Graph minors A survey\n",
      "-0.032746 \t Graph minors IV Widths of trees and well quasi ordering\n",
      "-0.048387 \t Relation of user perceived response time to error measurement\n",
      "-0.091270 \t The intersection graph of paths in trees\n",
      "-0.164975 \t The generation of random binary unordered trees\n"
     ]
    }
   ],
   "metadata": {}
  },
  {
   "cell_type": "markdown",
   "source": [
    "因為維度增加了，在相似度辨識的程度上產生了更多變化(別於num_topics=2時趨近於二分法的分數，更多的topcis能用更多的層級說明不同documents間的相似度)"
   ],
   "metadata": {}
  },
  {
   "cell_type": "markdown",
   "source": [
    "# Optional：Merge TF-IDF & LSI"
   ],
   "metadata": {}
  },
  {
   "cell_type": "code",
   "execution_count": 49,
   "source": [
    "# 改用tf-idf形式的corpus\r\n",
    "lsi = models.LsiModel(corpus_tfidf, num_topics=2)"
   ],
   "outputs": [],
   "metadata": {}
  },
  {
   "cell_type": "code",
   "execution_count": 50,
   "source": [
    "corpus_lsi = lsi[corpus_tfidf]\r\n",
    "index = similarities.MatrixSimilarity(corpus_lsi)\r\n",
    "\r\n",
    "# 將欲檢測的document也轉成tf-idf表示\r\n",
    "new_doc = \"Human computer interaction\"\r\n",
    "new_vec = dictionary.doc2bow(new_doc.lower().split())\r\n",
    "vec_tfidf = tfidf[new_vec]\r\n",
    "vec_lsidf = lsi[vec_tfidf]\r\n",
    "\r\n",
    "sims = index[vec_lsidf]\r\n",
    "sims = sorted(enumerate(sims), key= lambda item: -item[1])\r\n",
    "print(sims,'\\n')\r\n",
    "\r\n",
    "print('{:8} {:} {:}'.format('Score', '\\t', 'Document'))\r\n",
    "print('{:8} {:} {:}'.format('---','\\t','---'))\r\n",
    "for doc_position, doc_score in sims:\r\n",
    "    print('{:.6f} {:} {:}'.format(doc_score, '\\t', documents[doc_position]))"
   ],
   "outputs": [
    {
     "output_type": "stream",
     "name": "stdout",
     "text": [
      "[(0, 0.9999408), (2, 0.99990785), (3, 0.99984384), (4, 0.9992786), (1, 0.99330217), (8, 0.2224844), (7, -0.016480923), (6, -0.0515742), (5, -0.08804217)] \n",
      "\n",
      "Score    \t Document\n",
      "---      \t ---\n",
      "0.999941 \t Human machine interface for lab abc computer applications\n",
      "0.999908 \t The EPS user interface management system\n",
      "0.999844 \t System and human system engineering testing of EPS\n",
      "0.999279 \t Relation of user perceived response time to error measurement\n",
      "0.993302 \t A survey of user opinion of computer system response time\n",
      "0.222484 \t Graph minors A survey\n",
      "-0.016481 \t Graph minors IV Widths of trees and well quasi ordering\n",
      "-0.051574 \t The intersection graph of paths in trees\n",
      "-0.088042 \t The generation of random binary unordered trees\n"
     ]
    }
   ],
   "metadata": {}
  },
  {
   "cell_type": "markdown",
   "source": [
    "與前面的lsi x BoW相比，lsi x TF-IDF的分數整體變高，尤其是對於那些擁有關鍵字詞的documents"
   ],
   "metadata": {}
  }
 ],
 "metadata": {
  "orig_nbformat": 4,
  "language_info": {
   "name": "python",
   "version": "3.7.11",
   "mimetype": "text/x-python",
   "codemirror_mode": {
    "name": "ipython",
    "version": 3
   },
   "pygments_lexer": "ipython3",
   "nbconvert_exporter": "python",
   "file_extension": ".py"
  },
  "kernelspec": {
   "name": "python3",
   "display_name": "Python 3.7.11 64-bit ('pyod': conda)"
  },
  "interpreter": {
   "hash": "ab0180f7c6e22ac4b34d1890ac014250a78edec810a3be1e4c3bfd4632023176"
  }
 },
 "nbformat": 4,
 "nbformat_minor": 2
}